{
  "cells": [
    {
      "cell_type": "markdown",
      "metadata": {
        "id": "view-in-github",
        "colab_type": "text"
      },
      "source": [
        "<a href=\"https://colab.research.google.com/github/JSJeong-me/TorchText/blob/main/petitions_classification.ipynb\" target=\"_parent\"><img src=\"https://colab.research.google.com/assets/colab-badge.svg\" alt=\"Open In Colab\"/></a>"
      ]
    },
    {
      "cell_type": "code",
      "source": [
        "!pip install -r requirements.txt"
      ],
      "metadata": {
        "colab": {
          "base_uri": "https://localhost:8080/"
        },
        "id": "j-xERacFRi7l",
        "outputId": "4f11f66a-ca3e-42f9-f174-8845cad32252"
      },
      "execution_count": 1,
      "outputs": [
        {
          "output_type": "stream",
          "name": "stdout",
          "text": [
            "Collecting absl-py==0.11.0\n",
            "  Using cached absl_py-0.11.0-py3-none-any.whl (127 kB)\n",
            "Collecting argon2-cffi==20.1.0\n",
            "  Using cached argon2_cffi-20.1.0-cp35-abi3-manylinux1_x86_64.whl (97 kB)\n",
            "Requirement already satisfied: astor==0.8.1 in /usr/local/lib/python3.7/dist-packages (from -r requirements.txt (line 3)) (0.8.1)\n",
            "Collecting async-generator==1.10\n",
            "  Using cached async_generator-1.10-py3-none-any.whl (18 kB)\n",
            "Collecting attrs==20.3.0\n",
            "  Using cached attrs-20.3.0-py2.py3-none-any.whl (49 kB)\n",
            "Requirement already satisfied: backcall==0.2.0 in /usr/local/lib/python3.7/dist-packages (from -r requirements.txt (line 6)) (0.2.0)\n",
            "Collecting beautifulsoup4==4.6.0\n",
            "  Using cached beautifulsoup4-4.6.0-py3-none-any.whl (86 kB)\n",
            "Collecting bleach==3.2.1\n",
            "  Using cached bleach-3.2.1-py2.py3-none-any.whl (145 kB)\n",
            "Requirement already satisfied: cached-property==1.5.2 in /usr/local/lib/python3.7/dist-packages (from -r requirements.txt (line 9)) (1.5.2)\n",
            "Collecting cachetools==4.2.0\n",
            "  Using cached cachetools-4.2.0-py3-none-any.whl (12 kB)\n",
            "Collecting certifi==2020.12.5\n",
            "  Using cached certifi-2020.12.5-py2.py3-none-any.whl (147 kB)\n",
            "Collecting cffi==1.14.4\n",
            "  Using cached cffi-1.14.4-cp37-cp37m-manylinux1_x86_64.whl (402 kB)\n",
            "Collecting chardet==4.0.0\n",
            "  Using cached chardet-4.0.0-py2.py3-none-any.whl (178 kB)\n",
            "Collecting colorama==0.4.4\n",
            "  Using cached colorama-0.4.4-py2.py3-none-any.whl (16 kB)\n",
            "Collecting cycler==0.10.0\n",
            "  Using cached cycler-0.10.0-py2.py3-none-any.whl (6.5 kB)\n",
            "Collecting Cython==0.29.14\n",
            "  Using cached Cython-0.29.14-cp37-cp37m-manylinux1_x86_64.whl (2.1 MB)\n",
            "Requirement already satisfied: decorator==4.4.2 in /usr/local/lib/python3.7/dist-packages (from -r requirements.txt (line 17)) (4.4.2)\n",
            "Collecting defusedxml==0.6.0\n",
            "  Using cached defusedxml-0.6.0-py2.py3-none-any.whl (23 kB)\n",
            "Requirement already satisfied: entrypoints==0.3 in /usr/local/lib/python3.7/dist-packages (from -r requirements.txt (line 19)) (0.3)\n",
            "Collecting fsspec==0.8.5\n",
            "  Using cached fsspec-0.8.5-py3-none-any.whl (98 kB)\n",
            "Collecting future==0.18.2\n",
            "  Using cached future-0.18.2.tar.gz (829 kB)\n",
            "Requirement already satisfied: gast==0.4.0 in /usr/local/lib/python3.7/dist-packages (from -r requirements.txt (line 22)) (0.4.0)\n",
            "Collecting gensim==3.8.3\n",
            "  Using cached gensim-3.8.3-cp37-cp37m-manylinux1_x86_64.whl (24.2 MB)\n",
            "Collecting google-auth==1.24.0\n",
            "  Using cached google_auth-1.24.0-py2.py3-none-any.whl (114 kB)\n",
            "Collecting google-auth-oauthlib==0.4.2\n",
            "  Using cached google_auth_oauthlib-0.4.2-py2.py3-none-any.whl (18 kB)\n",
            "Requirement already satisfied: google-pasta==0.2.0 in /usr/local/lib/python3.7/dist-packages (from -r requirements.txt (line 26)) (0.2.0)\n",
            "Collecting grpcio==1.34.0\n",
            "  Using cached grpcio-1.34.0-cp37-cp37m-manylinux2014_x86_64.whl (3.9 MB)\n",
            "Requirement already satisfied: h5py==3.1.0 in /usr/local/lib/python3.7/dist-packages (from -r requirements.txt (line 28)) (3.1.0)\n",
            "Requirement already satisfied: idna==2.10 in /usr/local/lib/python3.7/dist-packages (from -r requirements.txt (line 29)) (2.10)\n",
            "Collecting importlib-metadata==3.3.0\n",
            "  Using cached importlib_metadata-3.3.0-py3-none-any.whl (10 kB)\n",
            "Collecting ipykernel==5.4.2\n",
            "  Using cached ipykernel-5.4.2-py3-none-any.whl (119 kB)\n",
            "Collecting ipython==7.4.0\n",
            "  Using cached ipython-7.4.0-py3-none-any.whl (769 kB)\n",
            "Requirement already satisfied: ipython-genutils==0.2.0 in /usr/local/lib/python3.7/dist-packages (from -r requirements.txt (line 33)) (0.2.0)\n",
            "Collecting ipywidgets==7.6.0\n",
            "  Using cached ipywidgets-7.6.0-py2.py3-none-any.whl (121 kB)\n",
            "Collecting jedi==0.18.0\n",
            "  Using cached jedi-0.18.0-py2.py3-none-any.whl (1.4 MB)\n",
            "Collecting Jinja2==2.11.2\n",
            "  Using cached Jinja2-2.11.2-py2.py3-none-any.whl (125 kB)\n",
            "Collecting joblib==1.0.0\n",
            "  Using cached joblib-1.0.0-py3-none-any.whl (302 kB)\n",
            "Collecting JPype1==1.2.0\n",
            "  Using cached JPype1-1.2.0-cp37-cp37m-manylinux2010_x86_64.whl (453 kB)\n",
            "Collecting jsonschema==3.2.0\n",
            "  Using cached jsonschema-3.2.0-py2.py3-none-any.whl (56 kB)\n",
            "Requirement already satisfied: jupyter==1.0.0 in /usr/local/lib/python3.7/dist-packages (from -r requirements.txt (line 40)) (1.0.0)\n",
            "Collecting jupyter-client==6.1.7\n",
            "  Using cached jupyter_client-6.1.7-py3-none-any.whl (108 kB)\n",
            "Collecting jupyter-console==6.2.0\n",
            "  Using cached jupyter_console-6.2.0-py3-none-any.whl (22 kB)\n",
            "Collecting jupyter-core==4.7.0\n",
            "  Using cached jupyter_core-4.7.0-py3-none-any.whl (82 kB)\n",
            "Requirement already satisfied: jupyterlab-pygments==0.1.2 in /usr/local/lib/python3.7/dist-packages (from -r requirements.txt (line 44)) (0.1.2)\n",
            "Collecting jupyterlab-widgets==1.0.0\n",
            "  Using cached jupyterlab_widgets-1.0.0-py3-none-any.whl (243 kB)\n",
            "Collecting Keras-Applications==1.0.8\n",
            "  Using cached Keras_Applications-1.0.8-py3-none-any.whl (50 kB)\n",
            "Requirement already satisfied: Keras-Preprocessing==1.1.2 in /usr/local/lib/python3.7/dist-packages (from -r requirements.txt (line 47)) (1.1.2)\n",
            "Collecting kiwisolver==1.3.1\n",
            "  Using cached kiwisolver-1.3.1-cp37-cp37m-manylinux1_x86_64.whl (1.1 MB)\n",
            "Collecting konlpy==0.5.2\n",
            "  Using cached konlpy-0.5.2-py2.py3-none-any.whl (19.4 MB)\n",
            "Collecting lxml==4.6.2\n",
            "  Using cached lxml-4.6.2-cp37-cp37m-manylinux1_x86_64.whl (5.5 MB)\n",
            "Collecting Markdown==3.3.3\n",
            "  Using cached Markdown-3.3.3-py3-none-any.whl (96 kB)\n",
            "Collecting MarkupSafe==1.1.1\n",
            "  Using cached MarkupSafe-1.1.1-cp37-cp37m-manylinux2010_x86_64.whl (33 kB)\n",
            "Collecting matplotlib==3.0.3\n",
            "  Using cached matplotlib-3.0.3-cp37-cp37m-manylinux1_x86_64.whl (13.0 MB)\n",
            "Requirement already satisfied: mistune==0.8.4 in /usr/local/lib/python3.7/dist-packages (from -r requirements.txt (line 54)) (0.8.4)\n",
            "Collecting nbclient==0.5.1\n",
            "  Using cached nbclient-0.5.1-py3-none-any.whl (65 kB)\n",
            "Collecting nbconvert==6.0.7\n",
            "  Using cached nbconvert-6.0.7-py3-none-any.whl (552 kB)\n",
            "Collecting nbformat==5.0.8\n",
            "  Using cached nbformat-5.0.8-py3-none-any.whl (172 kB)\n",
            "Collecting nest-asyncio==1.4.3\n",
            "  Using cached nest_asyncio-1.4.3-py3-none-any.whl (5.3 kB)\n",
            "Collecting notebook==6.1.6\n",
            "  Using cached notebook-6.1.6-py3-none-any.whl (9.5 MB)\n",
            "Collecting numpy==1.19.4\n",
            "  Using cached numpy-1.19.4-cp37-cp37m-manylinux2010_x86_64.whl (14.5 MB)\n",
            "Collecting oauthlib==3.1.0\n",
            "  Using cached oauthlib-3.1.0-py2.py3-none-any.whl (147 kB)\n",
            "Collecting packaging==20.8\n",
            "  Using cached packaging-20.8-py2.py3-none-any.whl (39 kB)\n",
            "Requirement already satisfied: pandas==1.1.5 in /usr/local/lib/python3.7/dist-packages (from -r requirements.txt (line 63)) (1.1.5)\n",
            "Collecting pandocfilters==1.4.3\n",
            "  Using cached pandocfilters-1.4.3.tar.gz (16 kB)\n",
            "Collecting parso==0.8.1\n",
            "  Using cached parso-0.8.1-py2.py3-none-any.whl (93 kB)\n",
            "Requirement already satisfied: pickleshare==0.7.5 in /usr/local/lib/python3.7/dist-packages (from -r requirements.txt (line 66)) (0.7.5)\n",
            "Collecting Pillow==8.0.1\n",
            "  Using cached Pillow-8.0.1-cp37-cp37m-manylinux1_x86_64.whl (2.2 MB)\n",
            "Collecting prometheus-client==0.9.0\n",
            "  Using cached prometheus_client-0.9.0-py2.py3-none-any.whl (53 kB)\n",
            "Collecting prompt-toolkit==2.0.10\n",
            "  Using cached prompt_toolkit-2.0.10-py3-none-any.whl (340 kB)\n",
            "Collecting protobuf==3.14.0\n",
            "  Using cached protobuf-3.14.0-cp37-cp37m-manylinux1_x86_64.whl (1.0 MB)\n",
            "Requirement already satisfied: pyasn1==0.4.8 in /usr/local/lib/python3.7/dist-packages (from -r requirements.txt (line 71)) (0.4.8)\n",
            "Requirement already satisfied: pyasn1-modules==0.2.8 in /usr/local/lib/python3.7/dist-packages (from -r requirements.txt (line 72)) (0.2.8)\n",
            "Collecting pycparser==2.20\n",
            "  Using cached pycparser-2.20-py2.py3-none-any.whl (112 kB)\n",
            "Collecting Pygments==2.7.3\n",
            "  Using cached Pygments-2.7.3-py3-none-any.whl (950 kB)\n",
            "Collecting pyparsing==2.4.7\n",
            "  Using cached pyparsing-2.4.7-py2.py3-none-any.whl (67 kB)\n",
            "Collecting pyrsistent==0.17.3\n",
            "  Using cached pyrsistent-0.17.3.tar.gz (106 kB)\n",
            "Requirement already satisfied: PySocks==1.7.1 in /usr/local/lib/python3.7/dist-packages (from -r requirements.txt (line 77)) (1.7.1)\n",
            "Collecting python-dateutil==2.8.1\n",
            "  Using cached python_dateutil-2.8.1-py2.py3-none-any.whl (227 kB)\n",
            "Collecting pytorch-lightning==1.1.2\n",
            "  Using cached pytorch_lightning-1.1.2-py3-none-any.whl (671 kB)\n",
            "Collecting pytz==2020.5\n",
            "  Using cached pytz-2020.5-py2.py3-none-any.whl (510 kB)\n",
            "\u001b[31mERROR: Could not find a version that satisfies the requirement pywin32==300 (from versions: none)\u001b[0m\n",
            "\u001b[31mERROR: No matching distribution found for pywin32==300\u001b[0m\n"
          ]
        }
      ]
    },
    {
      "cell_type": "markdown",
      "metadata": {
        "id": "1RNDaZjTRQ1f"
      },
      "source": [
        "# 2.1 크롤링"
      ]
    },
    {
      "cell_type": "markdown",
      "metadata": {
        "id": "_KQq-7QJRQ1h"
      },
      "source": [
        "[크롤링]"
      ]
    },
    {
      "cell_type": "code",
      "execution_count": 2,
      "metadata": {
        "collapsed": true,
        "colab": {
          "base_uri": "https://localhost:8080/"
        },
        "id": "Q08qhjJVRQ1i",
        "outputId": "0ae62161-7e46-49fd-c98c-c0358db48d5f"
      },
      "outputs": [
        {
          "output_type": "stream",
          "name": "stdout",
          "text": [
            "Sleep 90seconds. Count:594960,  Local Time:2022-01-15 12:49:37,  Data Length:35\n",
            "Sleep 90seconds. Count:595020,  Local Time:2022-01-15 12:49:58,  Data Length:94\n",
            "Sleep 90seconds. Count:595080,  Local Time:2022-01-15 12:50:15,  Data Length:115\n",
            "Sleep 90seconds. Count:595140,  Local Time:2022-01-15 12:50:30,  Data Length:117\n",
            "Sleep 90seconds. Count:595200,  Local Time:2022-01-15 12:50:44,  Data Length:117\n"
          ]
        }
      ],
      "source": [
        "import pandas as pd\n",
        "import numpy as np\n",
        "import requests\n",
        "from bs4 import BeautifulSoup \n",
        "import time\n",
        "\n",
        "\n",
        "result = pd.DataFrame()                                    \n",
        "\n",
        "for i in range(594926, 595226):\n",
        "    URL = \"http://www1.president.go.kr/petitions/\"+str(i)\n",
        " \n",
        "    response = requests.get(URL)    \n",
        "    html = response.text                                   \n",
        "    soup = BeautifulSoup(html, 'html.parser')           \n",
        "\n",
        "    title = soup.find('h3', class_='petitionsView_title')\n",
        "    count = soup.find('span', class_='counter')           \n",
        "\n",
        "    for content in soup.select('div.petitionsView_write > div.View_write'):\n",
        "        content                                         \n",
        "\n",
        "    a=[]\n",
        "    for tag in soup.select('ul.petitionsView_info_list > li'): \n",
        "        a.append(tag.contents[1])\n",
        "\n",
        "    if len(a) != 0:\n",
        "        df1=pd.DataFrame({ 'start' : [a[1]],                \n",
        "                           'end' : [a[2]],                     \n",
        "                           'category' :  [a[0]],               \n",
        "                           'count' : [count.text],             \n",
        "                           'title': [title.text],              \n",
        "                           'content': [content.text.strip()[0:13000]]                              \n",
        "                         })\n",
        "\n",
        "        result=pd.concat([result, df1])                        \n",
        "        result.index = np.arange(len(result))             \n",
        "\n",
        "    if i % 60 == 0:                                        \n",
        "        print(\"Sleep 90seconds. Count:\" + str(i)           \n",
        "              +\",  Local Time:\"+ time.strftime('%Y-%m-%d', time.localtime(time.time()))\n",
        "              +\" \"+ time.strftime('%X', time.localtime(time.time()))\n",
        "              +\",  Data Length:\"+ str(len(result)))        \n",
        "        time.sleep(10) "
      ]
    },
    {
      "cell_type": "markdown",
      "metadata": {
        "id": "3MnsYfFqRQ1k"
      },
      "source": [
        "[크롤링 데이터 확인]"
      ]
    },
    {
      "cell_type": "code",
      "execution_count": 3,
      "metadata": {
        "collapsed": true,
        "colab": {
          "base_uri": "https://localhost:8080/",
          "height": 354
        },
        "id": "sg_Fbac2RQ1k",
        "outputId": "93e5a457-34a0-48cf-805a-c01c64143be7"
      },
      "outputs": [
        {
          "output_type": "stream",
          "name": "stdout",
          "text": [
            "(117, 6)\n"
          ]
        },
        {
          "output_type": "execute_result",
          "data": {
            "text/html": [
              "\n",
              "  <div id=\"df-db9f58c5-1fca-4c15-afe8-bf2dbaf159ed\">\n",
              "    <div class=\"colab-df-container\">\n",
              "      <div>\n",
              "<style scoped>\n",
              "    .dataframe tbody tr th:only-of-type {\n",
              "        vertical-align: middle;\n",
              "    }\n",
              "\n",
              "    .dataframe tbody tr th {\n",
              "        vertical-align: top;\n",
              "    }\n",
              "\n",
              "    .dataframe thead th {\n",
              "        text-align: right;\n",
              "    }\n",
              "</style>\n",
              "<table border=\"1\" class=\"dataframe\">\n",
              "  <thead>\n",
              "    <tr style=\"text-align: right;\">\n",
              "      <th></th>\n",
              "      <th>start</th>\n",
              "      <th>end</th>\n",
              "      <th>category</th>\n",
              "      <th>count</th>\n",
              "      <th>title</th>\n",
              "      <th>content</th>\n",
              "    </tr>\n",
              "  </thead>\n",
              "  <tbody>\n",
              "    <tr>\n",
              "      <th>0</th>\n",
              "      <td>2020-12-23</td>\n",
              "      <td>2021-01-22</td>\n",
              "      <td>보건복지</td>\n",
              "      <td>257</td>\n",
              "      <td>목포 *안과  드림렌즈사기</td>\n",
              "      <td>저는11월20일 목포*안과를  찾아 드림렌즈를 신청하였 습니다. 정상적인 접수와 검...</td>\n",
              "    </tr>\n",
              "    <tr>\n",
              "      <th>1</th>\n",
              "      <td>2020-12-23</td>\n",
              "      <td>2021-01-22</td>\n",
              "      <td>안전/환경</td>\n",
              "      <td>225</td>\n",
              "      <td>목포시 오염 실태를 아십니까?</td>\n",
              "      <td>지금 목포시 상황이 말이아닙니다.\\r\\n공무원들이 시민을 고소하고 환경오염으로 지적...</td>\n",
              "    </tr>\n",
              "    <tr>\n",
              "      <th>2</th>\n",
              "      <td>2020-12-23</td>\n",
              "      <td>2021-01-22</td>\n",
              "      <td>교통/건축/국토</td>\n",
              "      <td>237</td>\n",
              "      <td>탄원서</td>\n",
              "      <td>탄 원 서\\n\\r\\n발신인 : 수익권증서 상의 1순위 질권자(채권자) 대표\\r\\n ...</td>\n",
              "    </tr>\n",
              "    <tr>\n",
              "      <th>3</th>\n",
              "      <td>2020-12-23</td>\n",
              "      <td>2021-01-22</td>\n",
              "      <td>안전/환경</td>\n",
              "      <td>180</td>\n",
              "      <td>확실한 코로나 예방을 위해 이중 마스크 착용을 강력하게 알려야 합니다.</td>\n",
              "      <td>코로나 확산 방지와 예방을 위한 가장 강력한 방법은 올바른 마스크 착용입니다.\\r\\...</td>\n",
              "    </tr>\n",
              "    <tr>\n",
              "      <th>4</th>\n",
              "      <td>2020-12-23</td>\n",
              "      <td>2021-01-22</td>\n",
              "      <td>육아/교육</td>\n",
              "      <td>373</td>\n",
              "      <td>긴급 돌봄과 긴급 보육의 구체화와 보육교사 대상 코로나 검사 실행 철회를 요구합니다.</td>\n",
              "      <td>안녕하세요. 저는 유치원에서 근무하고 있는 교사입니다. 비록 보육교사는 아니지만 현...</td>\n",
              "    </tr>\n",
              "  </tbody>\n",
              "</table>\n",
              "</div>\n",
              "      <button class=\"colab-df-convert\" onclick=\"convertToInteractive('df-db9f58c5-1fca-4c15-afe8-bf2dbaf159ed')\"\n",
              "              title=\"Convert this dataframe to an interactive table.\"\n",
              "              style=\"display:none;\">\n",
              "        \n",
              "  <svg xmlns=\"http://www.w3.org/2000/svg\" height=\"24px\"viewBox=\"0 0 24 24\"\n",
              "       width=\"24px\">\n",
              "    <path d=\"M0 0h24v24H0V0z\" fill=\"none\"/>\n",
              "    <path d=\"M18.56 5.44l.94 2.06.94-2.06 2.06-.94-2.06-.94-.94-2.06-.94 2.06-2.06.94zm-11 1L8.5 8.5l.94-2.06 2.06-.94-2.06-.94L8.5 2.5l-.94 2.06-2.06.94zm10 10l.94 2.06.94-2.06 2.06-.94-2.06-.94-.94-2.06-.94 2.06-2.06.94z\"/><path d=\"M17.41 7.96l-1.37-1.37c-.4-.4-.92-.59-1.43-.59-.52 0-1.04.2-1.43.59L10.3 9.45l-7.72 7.72c-.78.78-.78 2.05 0 2.83L4 21.41c.39.39.9.59 1.41.59.51 0 1.02-.2 1.41-.59l7.78-7.78 2.81-2.81c.8-.78.8-2.07 0-2.86zM5.41 20L4 18.59l7.72-7.72 1.47 1.35L5.41 20z\"/>\n",
              "  </svg>\n",
              "      </button>\n",
              "      \n",
              "  <style>\n",
              "    .colab-df-container {\n",
              "      display:flex;\n",
              "      flex-wrap:wrap;\n",
              "      gap: 12px;\n",
              "    }\n",
              "\n",
              "    .colab-df-convert {\n",
              "      background-color: #E8F0FE;\n",
              "      border: none;\n",
              "      border-radius: 50%;\n",
              "      cursor: pointer;\n",
              "      display: none;\n",
              "      fill: #1967D2;\n",
              "      height: 32px;\n",
              "      padding: 0 0 0 0;\n",
              "      width: 32px;\n",
              "    }\n",
              "\n",
              "    .colab-df-convert:hover {\n",
              "      background-color: #E2EBFA;\n",
              "      box-shadow: 0px 1px 2px rgba(60, 64, 67, 0.3), 0px 1px 3px 1px rgba(60, 64, 67, 0.15);\n",
              "      fill: #174EA6;\n",
              "    }\n",
              "\n",
              "    [theme=dark] .colab-df-convert {\n",
              "      background-color: #3B4455;\n",
              "      fill: #D2E3FC;\n",
              "    }\n",
              "\n",
              "    [theme=dark] .colab-df-convert:hover {\n",
              "      background-color: #434B5C;\n",
              "      box-shadow: 0px 1px 3px 1px rgba(0, 0, 0, 0.15);\n",
              "      filter: drop-shadow(0px 1px 2px rgba(0, 0, 0, 0.3));\n",
              "      fill: #FFFFFF;\n",
              "    }\n",
              "  </style>\n",
              "\n",
              "      <script>\n",
              "        const buttonEl =\n",
              "          document.querySelector('#df-db9f58c5-1fca-4c15-afe8-bf2dbaf159ed button.colab-df-convert');\n",
              "        buttonEl.style.display =\n",
              "          google.colab.kernel.accessAllowed ? 'block' : 'none';\n",
              "\n",
              "        async function convertToInteractive(key) {\n",
              "          const element = document.querySelector('#df-db9f58c5-1fca-4c15-afe8-bf2dbaf159ed');\n",
              "          const dataTable =\n",
              "            await google.colab.kernel.invokeFunction('convertToInteractive',\n",
              "                                                     [key], {});\n",
              "          if (!dataTable) return;\n",
              "\n",
              "          const docLinkHtml = 'Like what you see? Visit the ' +\n",
              "            '<a target=\"_blank\" href=https://colab.research.google.com/notebooks/data_table.ipynb>data table notebook</a>'\n",
              "            + ' to learn more about interactive tables.';\n",
              "          element.innerHTML = '';\n",
              "          dataTable['output_type'] = 'display_data';\n",
              "          await google.colab.output.renderOutput(dataTable, element);\n",
              "          const docLink = document.createElement('div');\n",
              "          docLink.innerHTML = docLinkHtml;\n",
              "          element.appendChild(docLink);\n",
              "        }\n",
              "      </script>\n",
              "    </div>\n",
              "  </div>\n",
              "  "
            ],
            "text/plain": [
              "        start  ...                                            content\n",
              "0  2020-12-23  ...  저는11월20일 목포*안과를  찾아 드림렌즈를 신청하였 습니다. 정상적인 접수와 검...\n",
              "1  2020-12-23  ...  지금 목포시 상황이 말이아닙니다.\\r\\n공무원들이 시민을 고소하고 환경오염으로 지적...\n",
              "2  2020-12-23  ...  탄 원 서\\n\\r\\n발신인 : 수익권증서 상의 1순위 질권자(채권자) 대표\\r\\n ...\n",
              "3  2020-12-23  ...  코로나 확산 방지와 예방을 위한 가장 강력한 방법은 올바른 마스크 착용입니다.\\r\\...\n",
              "4  2020-12-23  ...  안녕하세요. 저는 유치원에서 근무하고 있는 교사입니다. 비록 보육교사는 아니지만 현...\n",
              "\n",
              "[5 rows x 6 columns]"
            ]
          },
          "metadata": {},
          "execution_count": 3
        }
      ],
      "source": [
        "print(result.shape)\n",
        "\n",
        "df = result\n",
        "df.head()"
      ]
    },
    {
      "cell_type": "markdown",
      "metadata": {
        "id": "LPmj7VWkRQ1l"
      },
      "source": [
        "[데이터 엑셀로 저장]"
      ]
    },
    {
      "cell_type": "code",
      "source": [
        "!mkdir data"
      ],
      "metadata": {
        "id": "3ka6r7PWjC_0",
        "outputId": "b1db3fd9-eb80-4984-8137-53082ffbf60e",
        "colab": {
          "base_uri": "https://localhost:8080/"
        }
      },
      "execution_count": 4,
      "outputs": [
        {
          "output_type": "stream",
          "name": "stdout",
          "text": [
            "mkdir: cannot create directory ‘data’: File exists\n"
          ]
        }
      ]
    },
    {
      "cell_type": "code",
      "execution_count": 5,
      "metadata": {
        "collapsed": true,
        "id": "65GEYQrQRQ1l"
      },
      "outputs": [],
      "source": [
        "df.to_csv('data/crawling.csv', index = False, encoding = 'utf-8-sig')"
      ]
    },
    {
      "cell_type": "markdown",
      "metadata": {
        "id": "IblBCJ85RQ1l"
      },
      "source": [
        "# 2.2 데이터 전처리"
      ]
    },
    {
      "cell_type": "code",
      "execution_count": 6,
      "metadata": {
        "collapsed": true,
        "colab": {
          "base_uri": "https://localhost:8080/",
          "height": 139
        },
        "id": "SnApXLdQRQ1m",
        "outputId": "9606a7f0-b104-4f87-c7f5-2285892882e8"
      },
      "outputs": [
        {
          "output_type": "execute_result",
          "data": {
            "application/vnd.google.colaboratory.intrinsic+json": {
              "type": "string"
            },
            "text/plain": [
              "'지금 목포시 상황이 말이아닙니다.\\r\\n공무원들이 시민을 고소하고 환경오염으로 지적한부분\\r\\n시정되지도 않고 시민들만 오폐수 문제로 골머리가 아플지경 입니다.\\r\\n저의 고향이지만 이렇게 오폐수로 망가져가는 모습을\\r\\n더는 방관할 수 없을것 같습니다.\\r\\n시의원과 목포시 공무원들 일은 하고있는지\\r\\n제데로 조사가 필요할 것 같습니다.\\r\\n제가 이렇게까지 고향을 생각할정도의 오폐수 문제가\\r\\n너무도 심각하다는것을 인지해주시고 정부에서 강력하게 잘못된 목포시 행정을 바로 잡아주세요.\\r\\n이게 무슨일입니까?\\r\\n난 보고도 도저히 이해가 되지않습니다.\\n\\r\\n목포시 오염수 관련해서 바다를 오염 시키고 \\r\\n이런것을 고쳐낼 생각은 안하고 시민들을 고소 민사소송하겠다.\\r\\n협박하는게 현재 목포시 횡포입니다.\\r\\n밑에 관련정보를 조사해주신 분의 페이스북링크를\\r\\n남깁니다.\\n\\n [본 게시물의 일부 내용이 국민 청원 요건에 위배되어 관리자에 의해 수정되었습니다]'"
            ]
          },
          "metadata": {},
          "execution_count": 6
        }
      ],
      "source": [
        "df.loc[1]['content']  # 전처리 전"
      ]
    },
    {
      "cell_type": "markdown",
      "metadata": {
        "id": "6IWPvQsYRQ1n"
      },
      "source": [
        "[전처리]"
      ]
    },
    {
      "cell_type": "code",
      "execution_count": 7,
      "metadata": {
        "collapsed": true,
        "id": "i0NvJ7CCRQ1n"
      },
      "outputs": [],
      "source": [
        "import re\n",
        "\n",
        "def remove_white_space(text):\n",
        "    text = re.sub(r'[\\t\\r\\n\\f\\v]', ' ', str(text))\n",
        "    return text\n",
        "\n",
        "def remove_special_char(text):\n",
        "    text = re.sub('[^ ㄱ-ㅣ가-힣 0-9]+', ' ', str(text))\n",
        "    return text\n",
        "\n",
        "df.title = df.title.apply(remove_white_space)\n",
        "df.title = df.title.apply(remove_special_char)\n",
        "\n",
        "df.content = df.content.apply(remove_white_space)\n",
        "df.content = df.content.apply(remove_special_char)"
      ]
    },
    {
      "cell_type": "code",
      "execution_count": 8,
      "metadata": {
        "collapsed": true,
        "colab": {
          "base_uri": "https://localhost:8080/",
          "height": 139
        },
        "id": "zVDNDE69RQ1o",
        "outputId": "40a1af4b-97a9-47e6-8a36-20489a6002ef"
      },
      "outputs": [
        {
          "output_type": "execute_result",
          "data": {
            "application/vnd.google.colaboratory.intrinsic+json": {
              "type": "string"
            },
            "text/plain": [
              "'지금 목포시 상황이 말이아닙니다   공무원들이 시민을 고소하고 환경오염으로 지적한부분  시정되지도 않고 시민들만 오폐수 문제로 골머리가 아플지경 입니다   저의 고향이지만 이렇게 오폐수로 망가져가는 모습을  더는 방관할 수 없을것 같습니다   시의원과 목포시 공무원들 일은 하고있는지  제데로 조사가 필요할 것 같습니다   제가 이렇게까지 고향을 생각할정도의 오폐수 문제가  너무도 심각하다는것을 인지해주시고 정부에서 강력하게 잘못된 목포시 행정을 바로 잡아주세요   이게 무슨일입니까   난 보고도 도저히 이해가 되지않습니다    목포시 오염수 관련해서 바다를 오염 시키고   이런것을 고쳐낼 생각은 안하고 시민들을 고소 민사소송하겠다   협박하는게 현재 목포시 횡포입니다   밑에 관련정보를 조사해주신 분의 페이스북링크를  남깁니다     본 게시물의 일부 내용이 국민 청원 요건에 위배되어 관리자에 의해 수정되었습니다 '"
            ]
          },
          "metadata": {},
          "execution_count": 8
        }
      ],
      "source": [
        "df.loc[1]['content']  # 전처리 후"
      ]
    },
    {
      "cell_type": "markdown",
      "metadata": {
        "id": "dC7YN9jRRQ1p"
      },
      "source": [
        "# 2.3 토크나이징 및 변수 생성"
      ]
    },
    {
      "cell_type": "markdown",
      "metadata": {
        "id": "YPmVQ8GrRQ1p"
      },
      "source": [
        "[토크나이징]"
      ]
    },
    {
      "cell_type": "code",
      "source": [
        "!pip install konlpy "
      ],
      "metadata": {
        "colab": {
          "base_uri": "https://localhost:8080/"
        },
        "id": "SkSXfLg5jf9U",
        "outputId": "eb870fa0-2981-40ee-cd19-c02f4665dc01"
      },
      "execution_count": 9,
      "outputs": [
        {
          "output_type": "stream",
          "name": "stdout",
          "text": [
            "Requirement already satisfied: konlpy in /usr/local/lib/python3.7/dist-packages (0.6.0)\n",
            "Requirement already satisfied: lxml>=4.1.0 in /usr/local/lib/python3.7/dist-packages (from konlpy) (4.2.6)\n",
            "Requirement already satisfied: numpy>=1.6 in /usr/local/lib/python3.7/dist-packages (from konlpy) (1.19.5)\n",
            "Requirement already satisfied: JPype1>=0.7.0 in /usr/local/lib/python3.7/dist-packages (from konlpy) (1.3.0)\n",
            "Requirement already satisfied: typing-extensions in /usr/local/lib/python3.7/dist-packages (from JPype1>=0.7.0->konlpy) (3.10.0.2)\n"
          ]
        }
      ]
    },
    {
      "cell_type": "code",
      "execution_count": 10,
      "metadata": {
        "collapsed": true,
        "id": "LRdzoWR2RQ1q"
      },
      "outputs": [],
      "source": [
        "from konlpy.tag import Okt\n",
        "\n",
        "okt = Okt()\n",
        "\n",
        "df['title_token'] = df.title.apply(okt.morphs)\n",
        "df['content_token'] = df.content.apply(okt.nouns)"
      ]
    },
    {
      "cell_type": "markdown",
      "metadata": {
        "id": "Gl_NxvWjRQ1q"
      },
      "source": [
        "[파생변수 생성]"
      ]
    },
    {
      "cell_type": "code",
      "execution_count": 11,
      "metadata": {
        "collapsed": true,
        "colab": {
          "base_uri": "https://localhost:8080/"
        },
        "id": "gJzqthBxRQ1r",
        "outputId": "ef0af7c1-2651-44db-bee5-0687cf9eb397"
      },
      "outputs": [
        {
          "output_type": "stream",
          "name": "stdout",
          "text": [
            "start            object\n",
            "end              object\n",
            "category         object\n",
            "count             int64\n",
            "title            object\n",
            "content          object\n",
            "title_token      object\n",
            "content_token    object\n",
            "token_final      object\n",
            "dtype: object\n"
          ]
        }
      ],
      "source": [
        "df['token_final'] = df.title_token + df.content_token\n",
        "\n",
        "df['count'] = df['count'].replace({',' : ''}, regex = True).apply(lambda x : int(x))\n",
        "\n",
        "print(df.dtypes)\n",
        "\n",
        "df['label'] = df['count'].apply(lambda x: 'Yes' if x>=1000 else 'No')"
      ]
    },
    {
      "cell_type": "code",
      "execution_count": 12,
      "metadata": {
        "collapsed": true,
        "id": "22csw9xBRQ1s"
      },
      "outputs": [],
      "source": [
        "df_drop = df[['token_final', 'label']]"
      ]
    },
    {
      "cell_type": "code",
      "execution_count": 13,
      "metadata": {
        "collapsed": true,
        "colab": {
          "base_uri": "https://localhost:8080/",
          "height": 206
        },
        "id": "bmVokp-GRQ1s",
        "outputId": "ca14ff16-331e-46b8-fca6-184b7a7fdb4a"
      },
      "outputs": [
        {
          "output_type": "execute_result",
          "data": {
            "text/html": [
              "\n",
              "  <div id=\"df-a8c1c1a6-97f0-4d20-9660-867c9f3a1e86\">\n",
              "    <div class=\"colab-df-container\">\n",
              "      <div>\n",
              "<style scoped>\n",
              "    .dataframe tbody tr th:only-of-type {\n",
              "        vertical-align: middle;\n",
              "    }\n",
              "\n",
              "    .dataframe tbody tr th {\n",
              "        vertical-align: top;\n",
              "    }\n",
              "\n",
              "    .dataframe thead th {\n",
              "        text-align: right;\n",
              "    }\n",
              "</style>\n",
              "<table border=\"1\" class=\"dataframe\">\n",
              "  <thead>\n",
              "    <tr style=\"text-align: right;\">\n",
              "      <th></th>\n",
              "      <th>token_final</th>\n",
              "      <th>label</th>\n",
              "    </tr>\n",
              "  </thead>\n",
              "  <tbody>\n",
              "    <tr>\n",
              "      <th>0</th>\n",
              "      <td>[목포, 안과, 드림, 렌즈, 사기, 저, 목포, 안과, 드림, 렌즈, 신청, 정상...</td>\n",
              "      <td>No</td>\n",
              "    </tr>\n",
              "    <tr>\n",
              "      <th>1</th>\n",
              "      <td>[목포시, 오염, 실태, 를, 아십니까, 지금, 목포시, 상황, 말, 공무원, 시민...</td>\n",
              "      <td>No</td>\n",
              "    </tr>\n",
              "    <tr>\n",
              "      <th>2</th>\n",
              "      <td>[탄원서, 원, 발신, 수익권, 증서, 상의, 순위, 질권, 채권자, 대표, 주, ...</td>\n",
              "      <td>No</td>\n",
              "    </tr>\n",
              "    <tr>\n",
              "      <th>3</th>\n",
              "      <td>[확실한, 코로나, 예방, 을, 위해, 이중, 마스크, 착용, 을, 강력하게, 알려...</td>\n",
              "      <td>No</td>\n",
              "    </tr>\n",
              "    <tr>\n",
              "      <th>4</th>\n",
              "      <td>[긴급, 돌봄과, 긴급, 보육, 의, 구체화, 와, 보육, 교사, 대상, 코로나, ...</td>\n",
              "      <td>No</td>\n",
              "    </tr>\n",
              "  </tbody>\n",
              "</table>\n",
              "</div>\n",
              "      <button class=\"colab-df-convert\" onclick=\"convertToInteractive('df-a8c1c1a6-97f0-4d20-9660-867c9f3a1e86')\"\n",
              "              title=\"Convert this dataframe to an interactive table.\"\n",
              "              style=\"display:none;\">\n",
              "        \n",
              "  <svg xmlns=\"http://www.w3.org/2000/svg\" height=\"24px\"viewBox=\"0 0 24 24\"\n",
              "       width=\"24px\">\n",
              "    <path d=\"M0 0h24v24H0V0z\" fill=\"none\"/>\n",
              "    <path d=\"M18.56 5.44l.94 2.06.94-2.06 2.06-.94-2.06-.94-.94-2.06-.94 2.06-2.06.94zm-11 1L8.5 8.5l.94-2.06 2.06-.94-2.06-.94L8.5 2.5l-.94 2.06-2.06.94zm10 10l.94 2.06.94-2.06 2.06-.94-2.06-.94-.94-2.06-.94 2.06-2.06.94z\"/><path d=\"M17.41 7.96l-1.37-1.37c-.4-.4-.92-.59-1.43-.59-.52 0-1.04.2-1.43.59L10.3 9.45l-7.72 7.72c-.78.78-.78 2.05 0 2.83L4 21.41c.39.39.9.59 1.41.59.51 0 1.02-.2 1.41-.59l7.78-7.78 2.81-2.81c.8-.78.8-2.07 0-2.86zM5.41 20L4 18.59l7.72-7.72 1.47 1.35L5.41 20z\"/>\n",
              "  </svg>\n",
              "      </button>\n",
              "      \n",
              "  <style>\n",
              "    .colab-df-container {\n",
              "      display:flex;\n",
              "      flex-wrap:wrap;\n",
              "      gap: 12px;\n",
              "    }\n",
              "\n",
              "    .colab-df-convert {\n",
              "      background-color: #E8F0FE;\n",
              "      border: none;\n",
              "      border-radius: 50%;\n",
              "      cursor: pointer;\n",
              "      display: none;\n",
              "      fill: #1967D2;\n",
              "      height: 32px;\n",
              "      padding: 0 0 0 0;\n",
              "      width: 32px;\n",
              "    }\n",
              "\n",
              "    .colab-df-convert:hover {\n",
              "      background-color: #E2EBFA;\n",
              "      box-shadow: 0px 1px 2px rgba(60, 64, 67, 0.3), 0px 1px 3px 1px rgba(60, 64, 67, 0.15);\n",
              "      fill: #174EA6;\n",
              "    }\n",
              "\n",
              "    [theme=dark] .colab-df-convert {\n",
              "      background-color: #3B4455;\n",
              "      fill: #D2E3FC;\n",
              "    }\n",
              "\n",
              "    [theme=dark] .colab-df-convert:hover {\n",
              "      background-color: #434B5C;\n",
              "      box-shadow: 0px 1px 3px 1px rgba(0, 0, 0, 0.15);\n",
              "      filter: drop-shadow(0px 1px 2px rgba(0, 0, 0, 0.3));\n",
              "      fill: #FFFFFF;\n",
              "    }\n",
              "  </style>\n",
              "\n",
              "      <script>\n",
              "        const buttonEl =\n",
              "          document.querySelector('#df-a8c1c1a6-97f0-4d20-9660-867c9f3a1e86 button.colab-df-convert');\n",
              "        buttonEl.style.display =\n",
              "          google.colab.kernel.accessAllowed ? 'block' : 'none';\n",
              "\n",
              "        async function convertToInteractive(key) {\n",
              "          const element = document.querySelector('#df-a8c1c1a6-97f0-4d20-9660-867c9f3a1e86');\n",
              "          const dataTable =\n",
              "            await google.colab.kernel.invokeFunction('convertToInteractive',\n",
              "                                                     [key], {});\n",
              "          if (!dataTable) return;\n",
              "\n",
              "          const docLinkHtml = 'Like what you see? Visit the ' +\n",
              "            '<a target=\"_blank\" href=https://colab.research.google.com/notebooks/data_table.ipynb>data table notebook</a>'\n",
              "            + ' to learn more about interactive tables.';\n",
              "          element.innerHTML = '';\n",
              "          dataTable['output_type'] = 'display_data';\n",
              "          await google.colab.output.renderOutput(dataTable, element);\n",
              "          const docLink = document.createElement('div');\n",
              "          docLink.innerHTML = docLinkHtml;\n",
              "          element.appendChild(docLink);\n",
              "        }\n",
              "      </script>\n",
              "    </div>\n",
              "  </div>\n",
              "  "
            ],
            "text/plain": [
              "                                         token_final label\n",
              "0  [목포, 안과, 드림, 렌즈, 사기, 저, 목포, 안과, 드림, 렌즈, 신청, 정상...    No\n",
              "1  [목포시, 오염, 실태, 를, 아십니까, 지금, 목포시, 상황, 말, 공무원, 시민...    No\n",
              "2  [탄원서, 원, 발신, 수익권, 증서, 상의, 순위, 질권, 채권자, 대표, 주, ...    No\n",
              "3  [확실한, 코로나, 예방, 을, 위해, 이중, 마스크, 착용, 을, 강력하게, 알려...    No\n",
              "4  [긴급, 돌봄과, 긴급, 보육, 의, 구체화, 와, 보육, 교사, 대상, 코로나, ...    No"
            ]
          },
          "metadata": {},
          "execution_count": 13
        }
      ],
      "source": [
        "df_drop.head()"
      ]
    },
    {
      "cell_type": "markdown",
      "metadata": {
        "id": "1So0M325RQ1t"
      },
      "source": [
        "[데이터 엑셀로 저장]"
      ]
    },
    {
      "cell_type": "code",
      "execution_count": 14,
      "metadata": {
        "collapsed": true,
        "id": "wpucz5nbRQ1u"
      },
      "outputs": [],
      "source": [
        "df_drop.to_csv('data/df_drop.csv', index = False, encoding = 'utf-8-sig')"
      ]
    },
    {
      "cell_type": "markdown",
      "metadata": {
        "id": "sqrKYMRARQ1u"
      },
      "source": [
        "# 2.4 단어 임베딩"
      ]
    },
    {
      "cell_type": "markdown",
      "metadata": {
        "id": "3MTdHW6aRQ1v"
      },
      "source": [
        "[단어 임베딩]"
      ]
    },
    {
      "cell_type": "code",
      "execution_count": 15,
      "metadata": {
        "collapsed": true,
        "colab": {
          "base_uri": "https://localhost:8080/"
        },
        "id": "1p7eWT4-RQ1v",
        "outputId": "5714ecc6-3e88-490f-eca7-3b5478a2d5ac"
      },
      "outputs": [
        {
          "output_type": "stream",
          "name": "stdout",
          "text": [
            "Word2Vec(vocab=5031, size=100, alpha=0.025)\n",
            "[('장관', 0.9232786297798157), ('허용', 0.9210355281829834), ('정보', 0.9209083318710327), ('언제', 0.9191786050796509), ('충격', 0.9189960956573486), ('하라', 0.9180748462677002), ('대기업', 0.9178268909454346), ('매니저', 0.9171040654182434), ('죄', 0.9170569181442261), ('긴급', 0.9170064926147461)]\n"
          ]
        }
      ],
      "source": [
        "from gensim.models import Word2Vec\n",
        "\n",
        "embedding_model = Word2Vec(df_drop['token_final'], \n",
        "                           sg = 1, # skip-gram\n",
        "                           size = 100, \n",
        "                           window = 2, \n",
        "                           min_count = 1, \n",
        "                           workers = 4\n",
        "                           )\n",
        "\n",
        "print(embedding_model)\n",
        "\n",
        "model_result = embedding_model.wv.most_similar(\"음주운전\")\n",
        "print(model_result)"
      ]
    },
    {
      "cell_type": "markdown",
      "metadata": {
        "id": "Covs8el5RQ1w"
      },
      "source": [
        "[임베딩 모델 저장 및 로드]"
      ]
    },
    {
      "cell_type": "code",
      "execution_count": 16,
      "metadata": {
        "collapsed": true,
        "colab": {
          "base_uri": "https://localhost:8080/"
        },
        "id": "Uasub25lRQ1w",
        "outputId": "4896c7de-bf85-47e2-90eb-38c0f57989cb"
      },
      "outputs": [
        {
          "output_type": "stream",
          "name": "stdout",
          "text": [
            "[('장관', 0.9232786297798157), ('허용', 0.9210355281829834), ('정보', 0.9209083318710327), ('언제', 0.9191786050796509), ('충격', 0.9189960956573486), ('하라', 0.9180748462677002), ('대기업', 0.9178268909454346), ('매니저', 0.9171040654182434), ('죄', 0.9170569181442261), ('긴급', 0.9170064926147461)]\n"
          ]
        }
      ],
      "source": [
        "from gensim.models import KeyedVectors\n",
        "\n",
        "embedding_model.wv.save_word2vec_format('data/petitions_tokens_w2v') # 모델 저장\n",
        "loaded_model = KeyedVectors.load_word2vec_format('data/petitions_tokens_w2v') # 모델 로드\n",
        "\n",
        "model_result = loaded_model.most_similar(\"음주운전\")\n",
        "print(model_result)"
      ]
    },
    {
      "cell_type": "markdown",
      "metadata": {
        "id": "slb2bUyhRQ1x"
      },
      "source": [
        "# 2.5 실험 설계"
      ]
    },
    {
      "cell_type": "markdown",
      "metadata": {
        "id": "7QhjpQeiRQ1x"
      },
      "source": [
        "[데이터셋 분할 및 저장]"
      ]
    },
    {
      "cell_type": "code",
      "execution_count": 17,
      "metadata": {
        "collapsed": true,
        "id": "mbCb_QyrRQ1y"
      },
      "outputs": [],
      "source": [
        "from numpy.random import RandomState\n",
        "\n",
        "rng = RandomState()\n",
        "\n",
        "tr = df_drop.sample(frac=0.8, random_state=rng)\n",
        "val = df_drop.loc[~df_drop.index.isin(tr.index)]\n",
        "\n",
        "tr.to_csv('data/train.csv', index=False, encoding='utf-8-sig')\n",
        "val.to_csv('data/validation.csv', index=False, encoding='utf-8-sig')"
      ]
    },
    {
      "cell_type": "markdown",
      "metadata": {
        "id": "Xz_b9LEURQ1y"
      },
      "source": [
        "[Field클래스 정의]"
      ]
    },
    {
      "cell_type": "code",
      "source": [
        "!!pip install -U torchtext==0.8.0"
      ],
      "metadata": {
        "colab": {
          "base_uri": "https://localhost:8080/"
        },
        "id": "YunXiZ7WlSZD",
        "outputId": "51587ac9-4d02-4e35-eb58-112a49cf296e"
      },
      "execution_count": 18,
      "outputs": [
        {
          "output_type": "execute_result",
          "data": {
            "text/plain": [
              "['Collecting torchtext==0.8.0',\n",
              " '  Using cached torchtext-0.8.0-cp37-cp37m-manylinux1_x86_64.whl (6.9 MB)',\n",
              " 'Requirement already satisfied: numpy in /usr/local/lib/python3.7/dist-packages (from torchtext==0.8.0) (1.19.5)',\n",
              " 'Requirement already satisfied: requests in /usr/local/lib/python3.7/dist-packages (from torchtext==0.8.0) (2.23.0)',\n",
              " 'Requirement already satisfied: tqdm in /usr/local/lib/python3.7/dist-packages (from torchtext==0.8.0) (4.62.3)',\n",
              " 'Requirement already satisfied: torch in /usr/local/lib/python3.7/dist-packages (from torchtext==0.8.0) (1.10.1)',\n",
              " 'Requirement already satisfied: certifi>=2017.4.17 in /usr/local/lib/python3.7/dist-packages (from requests->torchtext==0.8.0) (2021.10.8)',\n",
              " 'Requirement already satisfied: chardet<4,>=3.0.2 in /usr/local/lib/python3.7/dist-packages (from requests->torchtext==0.8.0) (3.0.4)',\n",
              " 'Requirement already satisfied: idna<3,>=2.5 in /usr/local/lib/python3.7/dist-packages (from requests->torchtext==0.8.0) (2.10)',\n",
              " 'Requirement already satisfied: urllib3!=1.25.0,!=1.25.1,<1.26,>=1.21.1 in /usr/local/lib/python3.7/dist-packages (from requests->torchtext==0.8.0) (1.24.3)',\n",
              " 'Requirement already satisfied: typing-extensions in /usr/local/lib/python3.7/dist-packages (from torch->torchtext==0.8.0) (3.10.0.2)',\n",
              " 'Installing collected packages: torchtext',\n",
              " '  Attempting uninstall: torchtext',\n",
              " '    Found existing installation: torchtext 0.11.1',\n",
              " '    Uninstalling torchtext-0.11.1:',\n",
              " '      Successfully uninstalled torchtext-0.11.1',\n",
              " 'Successfully installed torchtext-0.8.0']"
            ]
          },
          "metadata": {},
          "execution_count": 18
        }
      ]
    },
    {
      "cell_type": "code",
      "source": [
        "#!pip install torch==1.6 torchtext==0.7"
      ],
      "metadata": {
        "id": "y0LDuf6St8I5"
      },
      "execution_count": 19,
      "outputs": []
    },
    {
      "cell_type": "code",
      "source": [
        "!pip install https://github.com/pytorch/text/archive/master.zip"
      ],
      "metadata": {
        "id": "a9IIRoWLv_nk",
        "outputId": "598c8f26-8804-4f0f-d2a8-98759210e20f",
        "colab": {
          "base_uri": "https://localhost:8080/"
        }
      },
      "execution_count": 20,
      "outputs": [
        {
          "output_type": "stream",
          "name": "stdout",
          "text": [
            "Collecting https://github.com/pytorch/text/archive/master.zip\n",
            "  Using cached https://github.com/pytorch/text/archive/master.zip\n",
            "Requirement already satisfied: tqdm in /usr/local/lib/python3.7/dist-packages (from torchtext==0.11.0a0) (4.62.3)\n",
            "Requirement already satisfied: requests in /usr/local/lib/python3.7/dist-packages (from torchtext==0.11.0a0) (2.23.0)\n",
            "Requirement already satisfied: torch in /usr/local/lib/python3.7/dist-packages (from torchtext==0.11.0a0) (1.10.1)\n",
            "Requirement already satisfied: numpy in /usr/local/lib/python3.7/dist-packages (from torchtext==0.11.0a0) (1.19.5)\n",
            "Requirement already satisfied: chardet<4,>=3.0.2 in /usr/local/lib/python3.7/dist-packages (from requests->torchtext==0.11.0a0) (3.0.4)\n",
            "Requirement already satisfied: idna<3,>=2.5 in /usr/local/lib/python3.7/dist-packages (from requests->torchtext==0.11.0a0) (2.10)\n",
            "Requirement already satisfied: urllib3!=1.25.0,!=1.25.1,<1.26,>=1.21.1 in /usr/local/lib/python3.7/dist-packages (from requests->torchtext==0.11.0a0) (1.24.3)\n",
            "Requirement already satisfied: certifi>=2017.4.17 in /usr/local/lib/python3.7/dist-packages (from requests->torchtext==0.11.0a0) (2021.10.8)\n",
            "Requirement already satisfied: typing-extensions in /usr/local/lib/python3.7/dist-packages (from torch->torchtext==0.11.0a0) (3.10.0.2)\n",
            "Building wheels for collected packages: torchtext\n",
            "  Building wheel for torchtext (setup.py) ... \u001b[?25lerror\n",
            "\u001b[31m  ERROR: Failed building wheel for torchtext\u001b[0m\n",
            "\u001b[?25h  Running setup.py clean for torchtext\n",
            "Failed to build torchtext\n",
            "Installing collected packages: torchtext\n",
            "  Attempting uninstall: torchtext\n",
            "    Found existing installation: torchtext 0.8.0\n",
            "    Uninstalling torchtext-0.8.0:\n",
            "      Successfully uninstalled torchtext-0.8.0\n",
            "    Running setup.py install for torchtext ... \u001b[?25l\u001b[?25herror\n",
            "  Rolling back uninstall of torchtext\n",
            "  Moving to /usr/local/lib/python3.7/dist-packages/torchtext-0.8.0.dist-info/\n",
            "   from /usr/local/lib/python3.7/dist-packages/~orchtext-0.8.0.dist-info\n",
            "  Moving to /usr/local/lib/python3.7/dist-packages/torchtext/\n",
            "   from /usr/local/lib/python3.7/dist-packages/~orchtext\n",
            "\u001b[31mERROR: Command errored out with exit status 1: /usr/bin/python3 -u -c 'import io, os, sys, setuptools, tokenize; sys.argv[0] = '\"'\"'/tmp/pip-req-build-_5334c4n/setup.py'\"'\"'; __file__='\"'\"'/tmp/pip-req-build-_5334c4n/setup.py'\"'\"';f = getattr(tokenize, '\"'\"'open'\"'\"', open)(__file__) if os.path.exists(__file__) else io.StringIO('\"'\"'from setuptools import setup; setup()'\"'\"');code = f.read().replace('\"'\"'\\r\\n'\"'\"', '\"'\"'\\n'\"'\"');f.close();exec(compile(code, __file__, '\"'\"'exec'\"'\"'))' install --record /tmp/pip-record-i_983dh5/install-record.txt --single-version-externally-managed --compile --install-headers /usr/local/include/python3.7/torchtext Check the logs for full command output.\u001b[0m\n"
          ]
        }
      ]
    },
    {
      "cell_type": "code",
      "source": [
        "!pip install -U torchtext"
      ],
      "metadata": {
        "id": "jv2QCMjwxX-x",
        "outputId": "d6803d3d-b778-42a5-f506-42ead8ab54c9",
        "colab": {
          "base_uri": "https://localhost:8080/"
        }
      },
      "execution_count": 23,
      "outputs": [
        {
          "output_type": "stream",
          "name": "stdout",
          "text": [
            "Requirement already satisfied: torchtext in /usr/local/lib/python3.7/dist-packages (0.8.0)\n",
            "Collecting torchtext\n",
            "  Using cached torchtext-0.11.1-cp37-cp37m-manylinux1_x86_64.whl (8.0 MB)\n",
            "Requirement already satisfied: tqdm in /usr/local/lib/python3.7/dist-packages (from torchtext) (4.62.3)\n",
            "Requirement already satisfied: numpy in /usr/local/lib/python3.7/dist-packages (from torchtext) (1.19.5)\n",
            "Requirement already satisfied: requests in /usr/local/lib/python3.7/dist-packages (from torchtext) (2.23.0)\n",
            "Requirement already satisfied: torch==1.10.1 in /usr/local/lib/python3.7/dist-packages (from torchtext) (1.10.1)\n",
            "Requirement already satisfied: typing-extensions in /usr/local/lib/python3.7/dist-packages (from torch==1.10.1->torchtext) (3.10.0.2)\n",
            "Requirement already satisfied: urllib3!=1.25.0,!=1.25.1,<1.26,>=1.21.1 in /usr/local/lib/python3.7/dist-packages (from requests->torchtext) (1.24.3)\n",
            "Requirement already satisfied: certifi>=2017.4.17 in /usr/local/lib/python3.7/dist-packages (from requests->torchtext) (2021.10.8)\n",
            "Requirement already satisfied: idna<3,>=2.5 in /usr/local/lib/python3.7/dist-packages (from requests->torchtext) (2.10)\n",
            "Requirement already satisfied: chardet<4,>=3.0.2 in /usr/local/lib/python3.7/dist-packages (from requests->torchtext) (3.0.4)\n",
            "Installing collected packages: torchtext\n",
            "  Attempting uninstall: torchtext\n",
            "    Found existing installation: torchtext 0.8.0\n",
            "    Uninstalling torchtext-0.8.0:\n",
            "      Successfully uninstalled torchtext-0.8.0\n",
            "Successfully installed torchtext-0.11.1\n"
          ]
        }
      ]
    },
    {
      "cell_type": "code",
      "execution_count": 24,
      "metadata": {
        "collapsed": true,
        "id": "U9WtjtqaRQ1z",
        "outputId": "f2b25b2b-acdd-4725-a073-84eb47ca480f",
        "colab": {
          "base_uri": "https://localhost:8080/"
        }
      },
      "outputs": [
        {
          "output_type": "stream",
          "name": "stderr",
          "text": [
            "/usr/local/lib/python3.7/dist-packages/torchtext/data/field.py:150: UserWarning: Field class will be retired soon and moved to torchtext.legacy. Please see the most recent release notes for further information.\n"
          ]
        }
      ],
      "source": [
        "import torchtext\n",
        "from torchtext.data import Field\n",
        "\n",
        "def tokenizer(text):\n",
        "    text = re.sub('[\\[\\]\\']', '', str(text))\n",
        "    text = text.split(', ')\n",
        "    return text\n",
        "\n",
        "TEXT = Field(tokenize=tokenizer)\n",
        "LABEL = Field(sequential = False)"
      ]
    },
    {
      "cell_type": "markdown",
      "metadata": {
        "id": "IVEDr0SDRQ1z"
      },
      "source": [
        "[데이터 불러오기]"
      ]
    },
    {
      "cell_type": "code",
      "execution_count": 25,
      "metadata": {
        "collapsed": true,
        "colab": {
          "base_uri": "https://localhost:8080/"
        },
        "id": "RD9R2iTQRQ1z",
        "outputId": "a0ceb8c8-066b-4d59-b38c-a6a4a7ed1aaa"
      },
      "outputs": [
        {
          "output_type": "stream",
          "name": "stdout",
          "text": [
            "Train: ['피싱', '사기', '를', '예방', '하기', '위해', '중국', '공안', '과', '공조', '하여', '함정수사', '를', '진행', '부탁', '합니다', '피싱', '사기', '예방', '위해', '중국', '공안', '공조', '함정수사', '진행', '부탁', '보이스피싱', '메신저', '피싱', '대부분', '해외', '진행', '중국', '공안', '공조', '함정수사', '진행', '필요'] No\n",
            "Validation: ['확실한', '코로나', '예방', '을', '위해', '이중', '마스크', '착용', '을', '강력하게', '알려야', '합니다', '코로나', '확산', '방지', '예방', '위', '가장', '방법', '마스크', '착용', '상식', '그', '예방', '효과', '자랑', '마스크', '장만', '착용', '것', '이중', '두', '장', '겹', '착용', '본인', '더', '예방', '효과', '볼', '것', '타인', '볼', '때', '더', '수', '저', '직장', '동료', '뜻', '지난', '주말', '간', '이중', '마스크', '착용', '결과', '생각', '호흡', '더', '느낌', '오히려', '습기', '덜', '차고', '착용', '이중', '마스크', '다시', '과정', '장점', '마스크', '장만', '것', '두', '장', '겹', '것', '단', '예방', '효과', '지금', '당장', '온', '국민', '실천', '널리', '마스크', '두', '장', '겹', '점', '수', '그', '부분', '감안', '예방', '효과', '초점', '즉시', '실천', '생각', '지금', '코로나', '대한', '가장', '백신', '마스크', '착용', '그', '백신', '더', '이중', '접종', '국민', '모두', '불안감', '일상생활', '쇼', '지금', '정부', '국민', '권고', '국민', '모두', '이중', '마스크', '착용', '코로나', '종식', '희망'] No\n"
          ]
        },
        {
          "output_type": "stream",
          "name": "stderr",
          "text": [
            "/usr/local/lib/python3.7/dist-packages/torchtext/data/example.py:68: UserWarning: Example class will be retired soon and moved to torchtext.legacy. Please see the most recent release notes for further information.\n",
            "/usr/local/lib/python3.7/dist-packages/torchtext/data/example.py:78: UserWarning: Example class will be retired soon and moved to torchtext.legacy. Please see the most recent release notes for further information.\n"
          ]
        }
      ],
      "source": [
        "from torchtext.data import TabularDataset\n",
        "\n",
        "train, validation = TabularDataset.splits(\n",
        "    path = 'data/',\n",
        "    train = 'train.csv',\n",
        "    validation = 'validation.csv',\n",
        "    format = 'csv',\n",
        "    fields = [('text', TEXT), ('label', LABEL)],\n",
        "    skip_header = True\n",
        ")\n",
        "\n",
        "print(\"Train:\", train[0].text,  train[0].label)\n",
        "print(\"Validation:\", validation[0].text, validation[0].label)"
      ]
    },
    {
      "cell_type": "markdown",
      "metadata": {
        "id": "K9pArv5iRQ10"
      },
      "source": [
        "[단어장 및 DataLoader 정의]"
      ]
    },
    {
      "cell_type": "code",
      "execution_count": 26,
      "metadata": {
        "collapsed": true,
        "colab": {
          "base_uri": "https://localhost:8080/"
        },
        "id": "SyLCSobbRQ10",
        "outputId": "1119483c-8444-4f6e-bd47-ce7b95bc7620"
      },
      "outputs": [
        {
          "output_type": "stream",
          "name": "stdout",
          "text": [
            "임베딩 벡터의 개수와 차원 : torch.Size([4412, 100]) \n"
          ]
        }
      ],
      "source": [
        "import torch\n",
        "from torchtext.vocab import Vectors\n",
        "from torchtext.legacy.data import BucketIterator\n",
        "\n",
        "vectors = Vectors(name=\"data/petitions_tokens_w2v\")\n",
        "\n",
        "TEXT.build_vocab(train, vectors = vectors, min_freq = 1, max_size = None)\n",
        "LABEL.build_vocab(train)\n",
        "\n",
        "vocab = TEXT.vocab\n",
        "\n",
        "device = torch.device(\"cuda\" if torch.cuda.is_available() else \"cpu\")\n",
        "\n",
        "train_iter, validation_iter = BucketIterator.splits(\n",
        "    datasets = (train, validation),\n",
        "    batch_size = 8,\n",
        "    device = device,\n",
        "    sort = False\n",
        ")\n",
        "\n",
        "print('임베딩 벡터의 개수와 차원 : {} '.format(TEXT.vocab.vectors.shape))"
      ]
    },
    {
      "cell_type": "markdown",
      "metadata": {
        "id": "cRUaXuXORQ11"
      },
      "source": [
        "# 2.6 TextCNN"
      ]
    },
    {
      "cell_type": "markdown",
      "metadata": {
        "id": "DexQkkL3RQ11"
      },
      "source": [
        "[TextCNN 모델링]"
      ]
    },
    {
      "cell_type": "code",
      "execution_count": 27,
      "metadata": {
        "collapsed": true,
        "id": "9GdRUVz2RQ11"
      },
      "outputs": [],
      "source": [
        "import torch.nn as nn   \n",
        "import torch.optim as optim \n",
        "import torch.nn.functional as F \n",
        "\n",
        "class TextCNN(nn.Module): \n",
        "    \n",
        "    def __init__(self, vocab_built, emb_dim, dim_channel, kernel_wins, num_class):\n",
        "        \n",
        "        super(TextCNN, self).__init__()\n",
        "        \n",
        "        self.embed = nn.Embedding(len(vocab_built), emb_dim)\n",
        "        self.embed.weight.data.copy_(vocab_built.vectors)      \n",
        "    \n",
        "        self.convs = nn.ModuleList([nn.Conv2d(1, dim_channel, (w, emb_dim)) for w in kernel_wins])\n",
        "        self.relu = nn.ReLU()                \n",
        "        self.dropout = nn.Dropout(0.4)         \n",
        "        self.fc = nn.Linear(len(kernel_wins)*dim_channel, num_class)     \n",
        "        \n",
        "    def forward(self, x):  \n",
        "      \n",
        "        emb_x = self.embed(x)           \n",
        "        emb_x = emb_x.unsqueeze(1)  \n",
        "\n",
        "        con_x = [self.relu(conv(emb_x)) for conv in self.convs]       \n",
        "\n",
        "        pool_x = [F.max_pool1d(x.squeeze(-1), x.size()[2]) for x in con_x]    \n",
        "        \n",
        "        fc_x = torch.cat(pool_x, dim=1) \n",
        "        fc_x = fc_x.squeeze(-1)       \n",
        "        fc_x = self.dropout(fc_x)         \n",
        "\n",
        "        logit = self.fc(fc_x)     \n",
        "        \n",
        "        return logit"
      ]
    },
    {
      "cell_type": "markdown",
      "metadata": {
        "id": "RbvxSyhvRQ12"
      },
      "source": [
        "[모델 학습 함수 정의]"
      ]
    },
    {
      "cell_type": "code",
      "execution_count": 28,
      "metadata": {
        "collapsed": true,
        "id": "GOsTqGEiRQ12"
      },
      "outputs": [],
      "source": [
        "def train(model, device, train_itr, optimizer):\n",
        "    \n",
        "    model.train()                               \n",
        "    corrects, train_loss = 0.0,0        \n",
        "    \n",
        "    for batch in train_itr:\n",
        "        \n",
        "        text, target = batch.text, batch.label      \n",
        "        text = torch.transpose(text, 0, 1)          \n",
        "        target.data.sub_(1)                                 \n",
        "        text, target = text.to(device), target.to(device)  \n",
        "\n",
        "        optimizer.zero_grad()                           \n",
        "        logit = model(text)                         \n",
        "    \n",
        "        loss = F.cross_entropy(logit, target)   \n",
        "        loss.backward()  \n",
        "        optimizer.step()  \n",
        "        \n",
        "        train_loss += loss.item()    \n",
        "        result = torch.max(logit,1)[1] \n",
        "        corrects += (result.view(target.size()).data == target.data).sum()\n",
        "        \n",
        "    train_loss /= len(train_itr.dataset)\n",
        "    accuracy = 100.0 * corrects / len(train_itr.dataset)\n",
        "\n",
        "    return train_loss, accuracy"
      ]
    },
    {
      "cell_type": "markdown",
      "metadata": {
        "id": "VEjjHXofRQ13"
      },
      "source": [
        "[모델 평가 함수 정의]"
      ]
    },
    {
      "cell_type": "code",
      "execution_count": 29,
      "metadata": {
        "collapsed": true,
        "id": "syFDLIuMRQ13"
      },
      "outputs": [],
      "source": [
        "def evaluate(model, device, itr):\n",
        "    \n",
        "    model.eval()\n",
        "    corrects, test_loss = 0.0, 0\n",
        "\n",
        "    for batch in itr:\n",
        "        \n",
        "        text = batch.text\n",
        "        target = batch.label\n",
        "        text = torch.transpose(text, 0, 1)\n",
        "        target.data.sub_(1)\n",
        "        text, target = text.to(device), target.to(device)\n",
        "        \n",
        "        logit = model(text)\n",
        "        loss = F.cross_entropy(logit, target)\n",
        "\n",
        "        test_loss += loss.item()\n",
        "        result = torch.max(logit,1)[1]\n",
        "        corrects += (result.view(target.size()).data == target.data).sum()\n",
        "\n",
        "    test_loss /= len(itr.dataset) \n",
        "    accuracy = 100.0 * corrects / len(itr.dataset)\n",
        "    \n",
        "    return test_loss, accuracy"
      ]
    },
    {
      "cell_type": "markdown",
      "metadata": {
        "id": "MdUrbyDeRQ13"
      },
      "source": [
        "[모델 학습 및 성능 확인]"
      ]
    },
    {
      "cell_type": "code",
      "execution_count": 30,
      "metadata": {
        "collapsed": true,
        "colab": {
          "base_uri": "https://localhost:8080/"
        },
        "id": "v3pMoOs5RQ13",
        "outputId": "46038230-b69f-4f96-c86a-d6a749f64179"
      },
      "outputs": [
        {
          "output_type": "stream",
          "name": "stdout",
          "text": [
            "TextCNN(\n",
            "  (embed): Embedding(4412, 100)\n",
            "  (convs): ModuleList(\n",
            "    (0): Conv2d(1, 10, kernel_size=(3, 100), stride=(1, 1))\n",
            "    (1): Conv2d(1, 10, kernel_size=(4, 100), stride=(1, 1))\n",
            "    (2): Conv2d(1, 10, kernel_size=(5, 100), stride=(1, 1))\n",
            "  )\n",
            "  (relu): ReLU()\n",
            "  (dropout): Dropout(p=0.4, inplace=False)\n",
            "  (fc): Linear(in_features=30, out_features=2, bias=True)\n",
            ")\n",
            "Train Epoch: 1 \t Loss: 0.08803768487686807 \t Accuracy: 53.19148635864258%\n",
            "Valid Epoch: 1 \t Loss: 0.09471270053283028 \t Accuracy: 39.130435943603516%\n",
            "model saves at 39.130435943603516 accuracy\n",
            "-----------------------------------------------------------------------------\n",
            "Train Epoch: 2 \t Loss: 0.08812317886251084 \t Accuracy: 50.0%\n",
            "Valid Epoch: 2 \t Loss: 0.09251731634140015 \t Accuracy: 39.130435943603516%\n",
            "-----------------------------------------------------------------------------\n",
            "Train Epoch: 3 \t Loss: 0.08618838229077927 \t Accuracy: 58.51063537597656%\n",
            "Valid Epoch: 3 \t Loss: 0.09059126221615335 \t Accuracy: 39.130435943603516%\n",
            "-----------------------------------------------------------------------------\n"
          ]
        }
      ],
      "source": [
        "model = TextCNN(vocab, 100, 10, [3, 4, 5], 2).to(device)\n",
        "print(model)\n",
        "\n",
        "device = torch.device(\"cuda\" if torch.cuda.is_available() else \"cpu\")\n",
        "\n",
        "optimizer = optim.Adam(model.parameters(), lr=0.001)\n",
        "\n",
        "best_test_acc = -1\n",
        "\n",
        "for epoch in range(1, 3+1):\n",
        " \n",
        "    tr_loss, tr_acc = train(model, device, train_iter, optimizer) \n",
        "    print('Train Epoch: {} \\t Loss: {} \\t Accuracy: {}%'.format(epoch, tr_loss, tr_acc))\n",
        "    \n",
        "    val_loss, val_acc = evaluate(model, device, validation_iter)\n",
        "    print('Valid Epoch: {} \\t Loss: {} \\t Accuracy: {}%'.format(epoch, val_loss, val_acc))\n",
        "        \n",
        "    if val_acc > best_test_acc:\n",
        "        best_test_acc = val_acc\n",
        "        \n",
        "        print(\"model saves at {} accuracy\".format(best_test_acc))\n",
        "        torch.save(model.state_dict(), \"TextCNN_Best_Validation\")\n",
        "    \n",
        "    print('-----------------------------------------------------------------------------')"
      ]
    }
  ],
  "metadata": {
    "kernelspec": {
      "display_name": "Python 3",
      "language": "python",
      "name": "python3"
    },
    "language_info": {
      "codemirror_mode": {
        "name": "ipython",
        "version": 3
      },
      "file_extension": ".py",
      "mimetype": "text/x-python",
      "name": "python",
      "nbconvert_exporter": "python",
      "pygments_lexer": "ipython3",
      "version": "3.6.4"
    },
    "colab": {
      "name": "petitions_classification.ipynb",
      "provenance": [],
      "include_colab_link": true
    },
    "accelerator": "GPU"
  },
  "nbformat": 4,
  "nbformat_minor": 0
}