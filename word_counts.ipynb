{
  "nbformat": 4,
  "nbformat_minor": 0,
  "metadata": {
    "colab": {
      "name": "Untitled74.ipynb",
      "provenance": [],
      "authorship_tag": "ABX9TyNU+CZnilxECFvd+QpeCTAh",
      "include_colab_link": true
    },
    "kernelspec": {
      "name": "python3",
      "display_name": "Python 3"
    },
    "language_info": {
      "name": "python"
    }
  },
  "cells": [
    {
      "cell_type": "markdown",
      "metadata": {
        "id": "view-in-github",
        "colab_type": "text"
      },
      "source": [
        "<a href=\"https://colab.research.google.com/github/JSJeong-me/TorchText/blob/main/word_counts.ipynb\" target=\"_parent\"><img src=\"https://colab.research.google.com/assets/colab-badge.svg\" alt=\"Open In Colab\"/></a>"
      ]
    },
    {
      "cell_type": "code",
      "execution_count": 1,
      "metadata": {
        "id": "kDClG3HHutcb"
      },
      "outputs": [],
      "source": [
        "import pandas as pd\n",
        "import re\n",
        "from collections import Counter"
      ]
    },
    {
      "cell_type": "code",
      "source": [
        "df = pd.read_csv('result.csv', encoding = 'utf-8-sig' )"
      ],
      "metadata": {
        "id": "B6eaicHvu3Fj"
      },
      "execution_count": 2,
      "outputs": []
    },
    {
      "cell_type": "code",
      "source": [
        "df.columns"
      ],
      "metadata": {
        "colab": {
          "base_uri": "https://localhost:8080/"
        },
        "id": "gt5F5P34vGyN",
        "outputId": "8cad5704-23ac-4514-9940-0d60f383b801"
      },
      "execution_count": 3,
      "outputs": [
        {
          "output_type": "execute_result",
          "data": {
            "text/plain": [
              "Index(['1-5_nouns', '2-2_nouns', '2-3_nouns', '2-4_nouns', '학교밖_nouns',\n",
              "       '5-1_nouns', '5-2_nouns', '6-1_nouns'],\n",
              "      dtype='object')"
            ]
          },
          "metadata": {},
          "execution_count": 3
        }
      ]
    },
    {
      "cell_type": "code",
      "source": [
        "columns_list = df.columns.tolist()"
      ],
      "metadata": {
        "id": "-_LDF54e5twg"
      },
      "execution_count": 4,
      "outputs": []
    },
    {
      "cell_type": "code",
      "source": [
        "for i in columns_list:\n",
        "  #print(i)\n",
        "  text = df[i].values\n",
        "  text_list = text.tolist()\n",
        "  text_list = str(text_list)\n",
        "  words = re.findall('\\w+',text_list)\n",
        "  ranking = Counter(words).most_common(10)\n",
        "  print('Columns {0}: {1}'.format(i, ranking))\n"
      ],
      "metadata": {
        "colab": {
          "base_uri": "https://localhost:8080/"
        },
        "id": "lBP9zZSQ3da-",
        "outputId": "132f7def-93eb-473f-f906-8a68067fac65"
      },
      "execution_count": 5,
      "outputs": [
        {
          "output_type": "stream",
          "name": "stdout",
          "text": [
            "Columns 1-5_nouns: [('정보', 3249), ('수학', 830), ('국어', 778), ('과학', 774), ('실과', 727), ('영어', 623), ('사회', 577), ('체육', 563), ('미술', 378), ('음악', 369)]\n",
            "Columns 2-2_nouns: [('학년', 1084), ('초등학교', 786), ('살', 293), ('중학교', 162), ('초', 34), ('초등', 30), ('기억', 18), ('때', 16), ('안남', 13), ('중', 10)]\n",
            "Columns 2-3_nouns: [('개월', 490), ('약', 46), ('하루', 44), ('주', 24), ('달', 23), ('정도', 23), ('주일', 20), ('기억', 16), ('모름', 15), ('안남', 10)]\n",
            "Columns 2-4_nouns: [('기억', 23), ('최근', 22), ('모름', 17), ('안남', 15), ('정도', 13), ('번', 10), ('안함', 10), ('때', 8), ('안', 8), ('시간', 7)]\n",
            "Columns 학교밖_nouns: [('기억', 44), ('안남', 25), ('모름', 17), ('로봇', 17), ('사용', 11), ('안', 8), ('적', 6), ('드론', 5), ('컴퓨터', 5), ('해당', 5)]\n",
            "Columns 5-1_nouns: [('수', 1083), ('생각', 774), ('학습', 436), ('지능', 421), ('인간', 334), ('일', 316), ('인공', 297), ('스스로', 278), ('행동', 266), ('말', 235)]\n",
            "Columns 5-2_nouns: [('인공', 1945), ('지능', 1937), ('감정', 1922), ('인간', 1368), ('사람', 766), ('수', 766), ('생각', 697), ('로봇', 327), ('것', 267), ('스스로', 228)]\n",
            "Columns 6-1_nouns: [('시리', 699), ('빅스', 689), ('비', 684), ('로봇청소기', 667), ('인공', 645), ('지능', 641), ('로봇', 578), ('냉장고', 554), ('스피커', 465), ('핸드폰', 425)]\n"
          ]
        }
      ]
    }
  ]
}