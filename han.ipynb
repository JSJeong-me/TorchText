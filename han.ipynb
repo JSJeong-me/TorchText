{
  "cells": [
    {
      "cell_type": "markdown",
      "metadata": {
        "id": "view-in-github",
        "colab_type": "text"
      },
      "source": [
        "<a href=\"https://colab.research.google.com/github/JSJeong-me/TorchText/blob/main/han.ipynb\" target=\"_parent\"><img src=\"https://colab.research.google.com/assets/colab-badge.svg\" alt=\"Open In Colab\"/></a>"
      ]
    },
    {
      "cell_type": "code",
      "source": [
        "!pip install -r requirements.txt"
      ],
      "metadata": {
        "colab": {
          "base_uri": "https://localhost:8080/"
        },
        "id": "j-xERacFRi7l",
        "outputId": "2253c00a-068b-4a51-8a32-1e9ab2a3245a"
      },
      "execution_count": 1,
      "outputs": [
        {
          "output_type": "stream",
          "name": "stdout",
          "text": [
            "Collecting absl-py==0.11.0\n",
            "  Downloading absl_py-0.11.0-py3-none-any.whl (127 kB)\n",
            "\u001b[K     |████████████████████████████████| 127 kB 20.9 MB/s \n",
            "\u001b[?25hCollecting argon2-cffi==20.1.0\n",
            "  Downloading argon2_cffi-20.1.0-cp35-abi3-manylinux1_x86_64.whl (97 kB)\n",
            "\u001b[K     |████████████████████████████████| 97 kB 6.2 MB/s \n",
            "\u001b[?25hRequirement already satisfied: astor==0.8.1 in /usr/local/lib/python3.7/dist-packages (from -r requirements.txt (line 3)) (0.8.1)\n",
            "Collecting async-generator==1.10\n",
            "  Downloading async_generator-1.10-py3-none-any.whl (18 kB)\n",
            "Collecting attrs==20.3.0\n",
            "  Downloading attrs-20.3.0-py2.py3-none-any.whl (49 kB)\n",
            "\u001b[K     |████████████████████████████████| 49 kB 4.9 MB/s \n",
            "\u001b[?25hRequirement already satisfied: backcall==0.2.0 in /usr/local/lib/python3.7/dist-packages (from -r requirements.txt (line 6)) (0.2.0)\n",
            "Collecting beautifulsoup4==4.6.0\n",
            "  Downloading beautifulsoup4-4.6.0-py3-none-any.whl (86 kB)\n",
            "\u001b[K     |████████████████████████████████| 86 kB 5.2 MB/s \n",
            "\u001b[?25hCollecting bleach==3.2.1\n",
            "  Downloading bleach-3.2.1-py2.py3-none-any.whl (145 kB)\n",
            "\u001b[K     |████████████████████████████████| 145 kB 64.5 MB/s \n",
            "\u001b[?25hRequirement already satisfied: cached-property==1.5.2 in /usr/local/lib/python3.7/dist-packages (from -r requirements.txt (line 9)) (1.5.2)\n",
            "Collecting cachetools==4.2.0\n",
            "  Downloading cachetools-4.2.0-py3-none-any.whl (12 kB)\n",
            "Collecting certifi==2020.12.5\n",
            "  Downloading certifi-2020.12.5-py2.py3-none-any.whl (147 kB)\n",
            "\u001b[K     |████████████████████████████████| 147 kB 42.9 MB/s \n",
            "\u001b[?25hCollecting cffi==1.14.4\n",
            "  Downloading cffi-1.14.4-cp37-cp37m-manylinux1_x86_64.whl (402 kB)\n",
            "\u001b[K     |████████████████████████████████| 402 kB 46.3 MB/s \n",
            "\u001b[?25hCollecting chardet==4.0.0\n",
            "  Downloading chardet-4.0.0-py2.py3-none-any.whl (178 kB)\n",
            "\u001b[K     |████████████████████████████████| 178 kB 45.8 MB/s \n",
            "\u001b[?25hCollecting colorama==0.4.4\n",
            "  Downloading colorama-0.4.4-py2.py3-none-any.whl (16 kB)\n",
            "Collecting cycler==0.10.0\n",
            "  Downloading cycler-0.10.0-py2.py3-none-any.whl (6.5 kB)\n",
            "Collecting Cython==0.29.14\n",
            "  Downloading Cython-0.29.14-cp37-cp37m-manylinux1_x86_64.whl (2.1 MB)\n",
            "\u001b[K     |████████████████████████████████| 2.1 MB 39.8 MB/s \n",
            "\u001b[?25hRequirement already satisfied: decorator==4.4.2 in /usr/local/lib/python3.7/dist-packages (from -r requirements.txt (line 17)) (4.4.2)\n",
            "Collecting defusedxml==0.6.0\n",
            "  Downloading defusedxml-0.6.0-py2.py3-none-any.whl (23 kB)\n",
            "Requirement already satisfied: entrypoints==0.3 in /usr/local/lib/python3.7/dist-packages (from -r requirements.txt (line 19)) (0.3)\n",
            "Collecting fsspec==0.8.5\n",
            "  Downloading fsspec-0.8.5-py3-none-any.whl (98 kB)\n",
            "\u001b[K     |████████████████████████████████| 98 kB 7.0 MB/s \n",
            "\u001b[?25hCollecting future==0.18.2\n",
            "  Downloading future-0.18.2.tar.gz (829 kB)\n",
            "\u001b[K     |████████████████████████████████| 829 kB 50.8 MB/s \n",
            "\u001b[?25hRequirement already satisfied: gast==0.4.0 in /usr/local/lib/python3.7/dist-packages (from -r requirements.txt (line 22)) (0.4.0)\n",
            "Collecting gensim==3.8.3\n",
            "  Downloading gensim-3.8.3-cp37-cp37m-manylinux1_x86_64.whl (24.2 MB)\n",
            "\u001b[K     |████████████████████████████████| 24.2 MB 2.0 MB/s \n",
            "\u001b[?25hCollecting google-auth==1.24.0\n",
            "  Downloading google_auth-1.24.0-py2.py3-none-any.whl (114 kB)\n",
            "\u001b[K     |████████████████████████████████| 114 kB 52.8 MB/s \n",
            "\u001b[?25hCollecting google-auth-oauthlib==0.4.2\n",
            "  Downloading google_auth_oauthlib-0.4.2-py2.py3-none-any.whl (18 kB)\n",
            "Requirement already satisfied: google-pasta==0.2.0 in /usr/local/lib/python3.7/dist-packages (from -r requirements.txt (line 26)) (0.2.0)\n",
            "Collecting grpcio==1.34.0\n",
            "  Downloading grpcio-1.34.0-cp37-cp37m-manylinux2014_x86_64.whl (3.9 MB)\n",
            "\u001b[K     |████████████████████████████████| 3.9 MB 46.3 MB/s \n",
            "\u001b[?25hRequirement already satisfied: h5py==3.1.0 in /usr/local/lib/python3.7/dist-packages (from -r requirements.txt (line 28)) (3.1.0)\n",
            "Requirement already satisfied: idna==2.10 in /usr/local/lib/python3.7/dist-packages (from -r requirements.txt (line 29)) (2.10)\n",
            "Collecting importlib-metadata==3.3.0\n",
            "  Downloading importlib_metadata-3.3.0-py3-none-any.whl (10 kB)\n",
            "Collecting ipykernel==5.4.2\n",
            "  Downloading ipykernel-5.4.2-py3-none-any.whl (119 kB)\n",
            "\u001b[K     |████████████████████████████████| 119 kB 50.9 MB/s \n",
            "\u001b[?25hCollecting ipython==7.4.0\n",
            "  Downloading ipython-7.4.0-py3-none-any.whl (769 kB)\n",
            "\u001b[K     |████████████████████████████████| 769 kB 48.5 MB/s \n",
            "\u001b[?25hRequirement already satisfied: ipython-genutils==0.2.0 in /usr/local/lib/python3.7/dist-packages (from -r requirements.txt (line 33)) (0.2.0)\n",
            "Collecting ipywidgets==7.6.0\n",
            "  Downloading ipywidgets-7.6.0-py2.py3-none-any.whl (121 kB)\n",
            "\u001b[K     |████████████████████████████████| 121 kB 54.9 MB/s \n",
            "\u001b[?25hCollecting jedi==0.18.0\n",
            "  Downloading jedi-0.18.0-py2.py3-none-any.whl (1.4 MB)\n",
            "\u001b[K     |████████████████████████████████| 1.4 MB 54.2 MB/s \n",
            "\u001b[?25hCollecting Jinja2==2.11.2\n",
            "  Downloading Jinja2-2.11.2-py2.py3-none-any.whl (125 kB)\n",
            "\u001b[K     |████████████████████████████████| 125 kB 72.6 MB/s \n",
            "\u001b[?25hCollecting joblib==1.0.0\n",
            "  Downloading joblib-1.0.0-py3-none-any.whl (302 kB)\n",
            "\u001b[K     |████████████████████████████████| 302 kB 55.4 MB/s \n",
            "\u001b[?25hCollecting JPype1==1.2.0\n",
            "  Downloading JPype1-1.2.0-cp37-cp37m-manylinux2010_x86_64.whl (453 kB)\n",
            "\u001b[K     |████████████████████████████████| 453 kB 54.7 MB/s \n",
            "\u001b[?25hCollecting jsonschema==3.2.0\n",
            "  Downloading jsonschema-3.2.0-py2.py3-none-any.whl (56 kB)\n",
            "\u001b[K     |████████████████████████████████| 56 kB 4.1 MB/s \n",
            "\u001b[?25hRequirement already satisfied: jupyter==1.0.0 in /usr/local/lib/python3.7/dist-packages (from -r requirements.txt (line 40)) (1.0.0)\n",
            "Collecting jupyter-client==6.1.7\n",
            "  Downloading jupyter_client-6.1.7-py3-none-any.whl (108 kB)\n",
            "\u001b[K     |████████████████████████████████| 108 kB 54.2 MB/s \n",
            "\u001b[?25hCollecting jupyter-console==6.2.0\n",
            "  Downloading jupyter_console-6.2.0-py3-none-any.whl (22 kB)\n",
            "Collecting jupyter-core==4.7.0\n",
            "  Downloading jupyter_core-4.7.0-py3-none-any.whl (82 kB)\n",
            "\u001b[K     |████████████████████████████████| 82 kB 1.0 MB/s \n",
            "\u001b[?25hRequirement already satisfied: jupyterlab-pygments==0.1.2 in /usr/local/lib/python3.7/dist-packages (from -r requirements.txt (line 44)) (0.1.2)\n",
            "Collecting jupyterlab-widgets==1.0.0\n",
            "  Downloading jupyterlab_widgets-1.0.0-py3-none-any.whl (243 kB)\n",
            "\u001b[K     |████████████████████████████████| 243 kB 55.0 MB/s \n",
            "\u001b[?25hCollecting Keras-Applications==1.0.8\n",
            "  Downloading Keras_Applications-1.0.8-py3-none-any.whl (50 kB)\n",
            "\u001b[K     |████████████████████████████████| 50 kB 6.0 MB/s \n",
            "\u001b[?25hRequirement already satisfied: Keras-Preprocessing==1.1.2 in /usr/local/lib/python3.7/dist-packages (from -r requirements.txt (line 47)) (1.1.2)\n",
            "Collecting kiwisolver==1.3.1\n",
            "  Downloading kiwisolver-1.3.1-cp37-cp37m-manylinux1_x86_64.whl (1.1 MB)\n",
            "\u001b[K     |████████████████████████████████| 1.1 MB 28.9 MB/s \n",
            "\u001b[?25hCollecting konlpy==0.5.2\n",
            "  Downloading konlpy-0.5.2-py2.py3-none-any.whl (19.4 MB)\n",
            "\u001b[K     |████████████████████████████████| 19.4 MB 1.2 MB/s \n",
            "\u001b[?25hCollecting lxml==4.6.2\n",
            "  Downloading lxml-4.6.2-cp37-cp37m-manylinux1_x86_64.whl (5.5 MB)\n",
            "\u001b[K     |████████████████████████████████| 5.5 MB 55.3 MB/s \n",
            "\u001b[?25hCollecting Markdown==3.3.3\n",
            "  Downloading Markdown-3.3.3-py3-none-any.whl (96 kB)\n",
            "\u001b[K     |████████████████████████████████| 96 kB 5.0 MB/s \n",
            "\u001b[?25hCollecting MarkupSafe==1.1.1\n",
            "  Downloading MarkupSafe-1.1.1-cp37-cp37m-manylinux2010_x86_64.whl (33 kB)\n",
            "Collecting matplotlib==3.0.3\n",
            "  Downloading matplotlib-3.0.3-cp37-cp37m-manylinux1_x86_64.whl (13.0 MB)\n",
            "\u001b[K     |████████████████████████████████| 13.0 MB 59.1 MB/s \n",
            "\u001b[?25hRequirement already satisfied: mistune==0.8.4 in /usr/local/lib/python3.7/dist-packages (from -r requirements.txt (line 54)) (0.8.4)\n",
            "Collecting nbclient==0.5.1\n",
            "  Downloading nbclient-0.5.1-py3-none-any.whl (65 kB)\n",
            "\u001b[K     |████████████████████████████████| 65 kB 3.1 MB/s \n",
            "\u001b[?25hCollecting nbconvert==6.0.7\n",
            "  Downloading nbconvert-6.0.7-py3-none-any.whl (552 kB)\n",
            "\u001b[K     |████████████████████████████████| 552 kB 44.5 MB/s \n",
            "\u001b[?25hCollecting nbformat==5.0.8\n",
            "  Downloading nbformat-5.0.8-py3-none-any.whl (172 kB)\n",
            "\u001b[K     |████████████████████████████████| 172 kB 65.2 MB/s \n",
            "\u001b[?25hCollecting nest-asyncio==1.4.3\n",
            "  Downloading nest_asyncio-1.4.3-py3-none-any.whl (5.3 kB)\n",
            "Collecting notebook==6.1.6\n",
            "  Downloading notebook-6.1.6-py3-none-any.whl (9.5 MB)\n",
            "\u001b[K     |████████████████████████████████| 9.5 MB 65.9 MB/s \n",
            "\u001b[?25hCollecting numpy==1.19.4\n",
            "  Downloading numpy-1.19.4-cp37-cp37m-manylinux2010_x86_64.whl (14.5 MB)\n",
            "\u001b[K     |████████████████████████████████| 14.5 MB 44.3 MB/s \n",
            "\u001b[?25hCollecting oauthlib==3.1.0\n",
            "  Downloading oauthlib-3.1.0-py2.py3-none-any.whl (147 kB)\n",
            "\u001b[K     |████████████████████████████████| 147 kB 50.3 MB/s \n",
            "\u001b[?25hCollecting packaging==20.8\n",
            "  Downloading packaging-20.8-py2.py3-none-any.whl (39 kB)\n",
            "Requirement already satisfied: pandas==1.1.5 in /usr/local/lib/python3.7/dist-packages (from -r requirements.txt (line 63)) (1.1.5)\n",
            "Collecting pandocfilters==1.4.3\n",
            "  Downloading pandocfilters-1.4.3.tar.gz (16 kB)\n",
            "Collecting parso==0.8.1\n",
            "  Downloading parso-0.8.1-py2.py3-none-any.whl (93 kB)\n",
            "\u001b[K     |████████████████████████████████| 93 kB 1.6 MB/s \n",
            "\u001b[?25hRequirement already satisfied: pickleshare==0.7.5 in /usr/local/lib/python3.7/dist-packages (from -r requirements.txt (line 66)) (0.7.5)\n",
            "Collecting Pillow==8.0.1\n",
            "  Downloading Pillow-8.0.1-cp37-cp37m-manylinux1_x86_64.whl (2.2 MB)\n",
            "\u001b[K     |████████████████████████████████| 2.2 MB 46.1 MB/s \n",
            "\u001b[?25hCollecting prometheus-client==0.9.0\n",
            "  Downloading prometheus_client-0.9.0-py2.py3-none-any.whl (53 kB)\n",
            "\u001b[K     |████████████████████████████████| 53 kB 2.3 MB/s \n",
            "\u001b[?25hCollecting prompt-toolkit==2.0.10\n",
            "  Downloading prompt_toolkit-2.0.10-py3-none-any.whl (340 kB)\n",
            "\u001b[K     |████████████████████████████████| 340 kB 68.8 MB/s \n",
            "\u001b[?25hCollecting protobuf==3.14.0\n",
            "  Downloading protobuf-3.14.0-cp37-cp37m-manylinux1_x86_64.whl (1.0 MB)\n",
            "\u001b[K     |████████████████████████████████| 1.0 MB 65.5 MB/s \n",
            "\u001b[?25hRequirement already satisfied: pyasn1==0.4.8 in /usr/local/lib/python3.7/dist-packages (from -r requirements.txt (line 71)) (0.4.8)\n",
            "Requirement already satisfied: pyasn1-modules==0.2.8 in /usr/local/lib/python3.7/dist-packages (from -r requirements.txt (line 72)) (0.2.8)\n",
            "Collecting pycparser==2.20\n",
            "  Downloading pycparser-2.20-py2.py3-none-any.whl (112 kB)\n",
            "\u001b[K     |████████████████████████████████| 112 kB 71.1 MB/s \n",
            "\u001b[?25hCollecting Pygments==2.7.3\n",
            "  Downloading Pygments-2.7.3-py3-none-any.whl (950 kB)\n",
            "\u001b[K     |████████████████████████████████| 950 kB 64.3 MB/s \n",
            "\u001b[?25hCollecting pyparsing==2.4.7\n",
            "  Downloading pyparsing-2.4.7-py2.py3-none-any.whl (67 kB)\n",
            "\u001b[K     |████████████████████████████████| 67 kB 5.2 MB/s \n",
            "\u001b[?25hCollecting pyrsistent==0.17.3\n",
            "  Downloading pyrsistent-0.17.3.tar.gz (106 kB)\n",
            "\u001b[K     |████████████████████████████████| 106 kB 58.5 MB/s \n",
            "\u001b[?25hRequirement already satisfied: PySocks==1.7.1 in /usr/local/lib/python3.7/dist-packages (from -r requirements.txt (line 77)) (1.7.1)\n",
            "Collecting python-dateutil==2.8.1\n",
            "  Downloading python_dateutil-2.8.1-py2.py3-none-any.whl (227 kB)\n",
            "\u001b[K     |████████████████████████████████| 227 kB 51.2 MB/s \n",
            "\u001b[?25hCollecting pytorch-lightning==1.1.2\n",
            "  Downloading pytorch_lightning-1.1.2-py3-none-any.whl (671 kB)\n",
            "\u001b[K     |████████████████████████████████| 671 kB 53.7 MB/s \n",
            "\u001b[?25hCollecting pytz==2020.5\n",
            "  Downloading pytz-2020.5-py2.py3-none-any.whl (510 kB)\n",
            "\u001b[K     |████████████████████████████████| 510 kB 69.7 MB/s \n",
            "\u001b[31mERROR: Could not find a version that satisfies the requirement pywin32==300 (from versions: none)\u001b[0m\n",
            "\u001b[31mERROR: No matching distribution found for pywin32==300\u001b[0m\n",
            "\u001b[?25h"
          ]
        }
      ]
    },
    {
      "cell_type": "code",
      "source": [
        "import pandas as pd\n",
        "import numpy as np\n",
        "import requests\n",
        "from bs4 import BeautifulSoup \n",
        "import time"
      ],
      "metadata": {
        "id": "KvaeSRds5eRR"
      },
      "execution_count": 2,
      "outputs": []
    },
    {
      "cell_type": "code",
      "source": [
        "df = pd.read_excel('./text.xlsx')"
      ],
      "metadata": {
        "id": "uaN6zVaX5iQt"
      },
      "execution_count": 3,
      "outputs": []
    },
    {
      "cell_type": "code",
      "source": [
        "df.columns"
      ],
      "metadata": {
        "id": "eoM5DGar5x-c",
        "outputId": "9fd121a1-85dc-4dc4-f1f1-2eecf24de745",
        "colab": {
          "base_uri": "https://localhost:8080/"
        }
      },
      "execution_count": 5,
      "outputs": [
        {
          "output_type": "execute_result",
          "data": {
            "text/plain": [
              "Index(['1-5. 학교에서 배웠던 과목명을 기억나는 대로 모두 적어주세요.', 'Unnamed: 1', 'Unnamed: 2',\n",
              "       '2-2. 학교 밖에서는 언제 처음 배웠나요? (예-초등학교 3학년)',\n",
              "       '2-3. 학교 밖에서 배운 기간은 어느 정도 되나요? (예-1년 2개월)',\n",
              "       '2-4. 학교 밖에서의 가장 최근 수업은 1주일에 몇 시간 정도 배웠나요? (예-2시간)', '학교밖',\n",
              "       '5-1. ‘예’라고 응답한 경우, 공통점은 무엇일까요?', '5-2. ‘예’라고 응답한 경우, 차이점은 무엇일까요?',\n",
              "       '6-1. ‘예’라고 응답한 경우, 어떤 제품이 있을까요?'],\n",
              "      dtype='object')"
            ]
          },
          "metadata": {},
          "execution_count": 5
        }
      ]
    },
    {
      "cell_type": "code",
      "source": [
        "df.shape"
      ],
      "metadata": {
        "id": "oVSd42cB55-2",
        "outputId": "a820133b-d2c9-46ec-e0c4-1dcfae3675fb",
        "colab": {
          "base_uri": "https://localhost:8080/"
        }
      },
      "execution_count": 6,
      "outputs": [
        {
          "output_type": "execute_result",
          "data": {
            "text/plain": [
              "(6803, 10)"
            ]
          },
          "metadata": {},
          "execution_count": 6
        }
      ]
    },
    {
      "cell_type": "code",
      "source": [
        "df.head(5)"
      ],
      "metadata": {
        "id": "2l810R1i6kIL"
      },
      "execution_count": null,
      "outputs": []
    },
    {
      "cell_type": "code",
      "source": [
        "import re\n",
        "\n",
        "def remove_white_space(text):\n",
        "    text = re.sub(r'[\\t\\r\\n\\f\\v]', ' ', str(text))\n",
        "    return text\n",
        "\n",
        "def remove_special_char(text):\n",
        "    text = re.sub('[^ ㄱ-ㅣ가-힣 0-9]+', ' ', str(text))\n",
        "    return text\n",
        "\n",
        "df['1-5. 학교에서 배웠던 과목명을 기억나는 대로 모두 적어주세요.'] = df['1-5. 학교에서 배웠던 과목명을 기억나는 대로 모두 적어주세요.'].apply(remove_white_space)\n",
        "df['1-5. 학교에서 배웠던 과목명을 기억나는 대로 모두 적어주세요.'] = df['1-5. 학교에서 배웠던 과목명을 기억나는 대로 모두 적어주세요.'].apply(remove_special_char)\n",
        "\n",
        "df['2-2. 학교 밖에서는 언제 처음 배웠나요? (예-초등학교 3학년)'] = df['2-2. 학교 밖에서는 언제 처음 배웠나요? (예-초등학교 3학년)'].apply(remove_white_space)\n",
        "df['2-2. 학교 밖에서는 언제 처음 배웠나요? (예-초등학교 3학년)'] = df['2-2. 학교 밖에서는 언제 처음 배웠나요? (예-초등학교 3학년)'].apply(remove_special_char)\n",
        "\n",
        "df['2-3. 학교 밖에서 배운 기간은 어느 정도 되나요? (예-1년 2개월)'] = df['2-3. 학교 밖에서 배운 기간은 어느 정도 되나요? (예-1년 2개월)'].apply(remove_white_space)\n",
        "df['2-3. 학교 밖에서 배운 기간은 어느 정도 되나요? (예-1년 2개월)'] = df['2-3. 학교 밖에서 배운 기간은 어느 정도 되나요? (예-1년 2개월)'].apply(remove_special_char)\n",
        " \n",
        "df['2-4. 학교 밖에서의 가장 최근 수업은 1주일에 몇 시간 정도 배웠나요? (예-2시간)'] = df['2-4. 학교 밖에서의 가장 최근 수업은 1주일에 몇 시간 정도 배웠나요? (예-2시간)'].apply(remove_white_space)\n",
        "df['2-4. 학교 밖에서의 가장 최근 수업은 1주일에 몇 시간 정도 배웠나요? (예-2시간)'] = df['2-4. 학교 밖에서의 가장 최근 수업은 1주일에 몇 시간 정도 배웠나요? (예-2시간)'].apply(remove_special_char)\n",
        "\n",
        "df['학교밖'] = df['학교밖'].apply(remove_white_space)\n",
        "df['학교밖'] = df['학교밖'].apply(remove_special_char)\n",
        "\n",
        "df['5-1. ‘예’라고 응답한 경우, 공통점은 무엇일까요?'] = df['5-1. ‘예’라고 응답한 경우, 공통점은 무엇일까요?'].apply(remove_white_space)\n",
        "df['5-1. ‘예’라고 응답한 경우, 공통점은 무엇일까요?'] = df['5-1. ‘예’라고 응답한 경우, 공통점은 무엇일까요?'].apply(remove_special_char)\n",
        " \n",
        "df['5-2. ‘예’라고 응답한 경우, 차이점은 무엇일까요?'] = df['5-2. ‘예’라고 응답한 경우, 차이점은 무엇일까요?'].apply(remove_white_space)\n",
        "df['5-2. ‘예’라고 응답한 경우, 차이점은 무엇일까요?'] = df['5-2. ‘예’라고 응답한 경우, 차이점은 무엇일까요?'].apply(remove_special_char)\n",
        " \n",
        "df['6-1. ‘예’라고 응답한 경우, 어떤 제품이 있을까요?'] = df['6-1. ‘예’라고 응답한 경우, 어떤 제품이 있을까요?'].apply(remove_white_space)\n",
        "df['6-1. ‘예’라고 응답한 경우, 어떤 제품이 있을까요?'] = df['6-1. ‘예’라고 응답한 경우, 어떤 제품이 있을까요?'].apply(remove_special_char)\n"
      ],
      "metadata": {
        "id": "aHDvZ-LK6J-Q"
      },
      "execution_count": 38,
      "outputs": []
    },
    {
      "cell_type": "code",
      "source": [
        ""
      ],
      "metadata": {
        "id": "1KRgWtFM8S1B"
      },
      "execution_count": null,
      "outputs": []
    },
    {
      "cell_type": "code",
      "source": [
        "df.to_csv('text.csv', index = False, encoding = 'utf-8-sig')"
      ],
      "metadata": {
        "id": "J0XiGh798KaD"
      },
      "execution_count": 40,
      "outputs": []
    },
    {
      "cell_type": "code",
      "source": [
        ""
      ],
      "metadata": {
        "id": "sv7zV0G1_Ccp"
      },
      "execution_count": null,
      "outputs": []
    },
    {
      "cell_type": "markdown",
      "metadata": {
        "id": "3MnsYfFqRQ1k"
      },
      "source": [
        "[크롤링 데이터 확인]"
      ]
    },
    {
      "cell_type": "code",
      "execution_count": null,
      "metadata": {
        "collapsed": true,
        "id": "sg_Fbac2RQ1k"
      },
      "outputs": [],
      "source": [
        "df.head()"
      ]
    },
    {
      "cell_type": "markdown",
      "metadata": {
        "id": "LPmj7VWkRQ1l"
      },
      "source": [
        "[데이터 엑셀로 저장]"
      ]
    },
    {
      "cell_type": "markdown",
      "metadata": {
        "id": "IblBCJ85RQ1l"
      },
      "source": [
        "# 2.2 데이터 전처리"
      ]
    },
    {
      "cell_type": "markdown",
      "metadata": {
        "id": "dC7YN9jRRQ1p"
      },
      "source": [
        "# 2.3 토크나이징 및 변수 생성"
      ]
    },
    {
      "cell_type": "markdown",
      "metadata": {
        "id": "YPmVQ8GrRQ1p"
      },
      "source": [
        "[토크나이징]"
      ]
    },
    {
      "cell_type": "code",
      "source": [
        "!pip install konlpy "
      ],
      "metadata": {
        "id": "SkSXfLg5jf9U"
      },
      "execution_count": null,
      "outputs": []
    },
    {
      "cell_type": "code",
      "execution_count": 43,
      "metadata": {
        "collapsed": true,
        "id": "LRdzoWR2RQ1q"
      },
      "outputs": [],
      "source": [
        "from konlpy.tag import Okt\n",
        "\n",
        "okt = Okt()\n",
        "\n",
        "df['1-5_token'] = df['1-5. 학교에서 배웠던 과목명을 기억나는 대로 모두 적어주세요.'].apply(okt.morphs)\n",
        "\n",
        "df['1-5_nouns'] = df['1-5. 학교에서 배웠던 과목명을 기억나는 대로 모두 적어주세요.'].apply(okt.nouns)"
      ]
    },
    {
      "cell_type": "code",
      "source": [
        "df['1-5_token'].head(5)"
      ],
      "metadata": {
        "id": "SDtjhAF7FviQ",
        "outputId": "a67954a8-fd76-484c-d2fe-2f8635f66348",
        "colab": {
          "base_uri": "https://localhost:8080/"
        }
      },
      "execution_count": 44,
      "outputs": [
        {
          "output_type": "execute_result",
          "data": {
            "text/plain": [
              "0       []\n",
              "1    [엔트리]\n",
              "2     [정보]\n",
              "3     [정보]\n",
              "4    [엔트리]\n",
              "Name: 1-5_token, dtype: object"
            ]
          },
          "metadata": {},
          "execution_count": 44
        }
      ]
    },
    {
      "cell_type": "code",
      "source": [
        "df['1-5_nouns'].head(5)"
      ],
      "metadata": {
        "id": "fpFHyci8F01a",
        "outputId": "fe5adeff-d399-4c86-89bb-5c62a4a5d8f9",
        "colab": {
          "base_uri": "https://localhost:8080/"
        }
      },
      "execution_count": 46,
      "outputs": [
        {
          "output_type": "execute_result",
          "data": {
            "text/plain": [
              "0       []\n",
              "1    [엔트리]\n",
              "2     [정보]\n",
              "3     [정보]\n",
              "4    [엔트리]\n",
              "Name: 1-5_nouns, dtype: object"
            ]
          },
          "metadata": {},
          "execution_count": 46
        }
      ]
    },
    {
      "cell_type": "code",
      "source": [
        "df.columns"
      ],
      "metadata": {
        "id": "7geRck9YG75x",
        "outputId": "24414b6f-9c15-4bca-fda8-34cbe4b15b0c",
        "colab": {
          "base_uri": "https://localhost:8080/"
        }
      },
      "execution_count": 49,
      "outputs": [
        {
          "output_type": "execute_result",
          "data": {
            "text/plain": [
              "Index(['1-5. 학교에서 배웠던 과목명을 기억나는 대로 모두 적어주세요.', 'Unnamed: 1', 'Unnamed: 2',\n",
              "       '2-2. 학교 밖에서는 언제 처음 배웠나요? (예-초등학교 3학년)',\n",
              "       '2-3. 학교 밖에서 배운 기간은 어느 정도 되나요? (예-1년 2개월)',\n",
              "       '2-4. 학교 밖에서의 가장 최근 수업은 1주일에 몇 시간 정도 배웠나요? (예-2시간)', '학교밖',\n",
              "       '5-1. ‘예’라고 응답한 경우, 공통점은 무엇일까요?', '5-2. ‘예’라고 응답한 경우, 차이점은 무엇일까요?',\n",
              "       '6-1. ‘예’라고 응답한 경우, 어떤 제품이 있을까요?', '1-5_token', '1-5_nouns'],\n",
              "      dtype='object')"
            ]
          },
          "metadata": {},
          "execution_count": 49
        }
      ]
    },
    {
      "cell_type": "code",
      "source": [
        "df.head()"
      ],
      "metadata": {
        "id": "YxR_DwzLH3uY",
        "outputId": "070d194c-959a-4a6d-f2fd-0935a24378f9",
        "colab": {
          "base_uri": "https://localhost:8080/",
          "height": 275
        }
      },
      "execution_count": 53,
      "outputs": [
        {
          "output_type": "execute_result",
          "data": {
            "text/html": [
              "\n",
              "  <div id=\"df-5930c484-8dde-4bb3-b9e2-07e480076336\">\n",
              "    <div class=\"colab-df-container\">\n",
              "      <div>\n",
              "<style scoped>\n",
              "    .dataframe tbody tr th:only-of-type {\n",
              "        vertical-align: middle;\n",
              "    }\n",
              "\n",
              "    .dataframe tbody tr th {\n",
              "        vertical-align: top;\n",
              "    }\n",
              "\n",
              "    .dataframe thead th {\n",
              "        text-align: right;\n",
              "    }\n",
              "</style>\n",
              "<table border=\"1\" class=\"dataframe\">\n",
              "  <thead>\n",
              "    <tr style=\"text-align: right;\">\n",
              "      <th></th>\n",
              "      <th>1-5. 학교에서 배웠던 과목명을 기억나는 대로 모두 적어주세요.</th>\n",
              "      <th>Unnamed: 1</th>\n",
              "      <th>Unnamed: 2</th>\n",
              "      <th>2-2. 학교 밖에서는 언제 처음 배웠나요? (예-초등학교 3학년)</th>\n",
              "      <th>2-3. 학교 밖에서 배운 기간은 어느 정도 되나요? (예-1년 2개월)</th>\n",
              "      <th>2-4. 학교 밖에서의 가장 최근 수업은 1주일에 몇 시간 정도 배웠나요? (예-2시간)</th>\n",
              "      <th>학교밖</th>\n",
              "      <th>5-1. ‘예’라고 응답한 경우, 공통점은 무엇일까요?</th>\n",
              "      <th>5-2. ‘예’라고 응답한 경우, 차이점은 무엇일까요?</th>\n",
              "      <th>6-1. ‘예’라고 응답한 경우, 어떤 제품이 있을까요?</th>\n",
              "      <th>1-5_token</th>\n",
              "      <th>1-5_nouns</th>\n",
              "      <th>count</th>\n",
              "    </tr>\n",
              "  </thead>\n",
              "  <tbody>\n",
              "    <tr>\n",
              "      <th>0</th>\n",
              "      <td></td>\n",
              "      <td>⑩ 기타</td>\n",
              "      <td>⑨ 기타</td>\n",
              "      <td></td>\n",
              "      <td></td>\n",
              "      <td></td>\n",
              "      <td>기타</td>\n",
              "      <td></td>\n",
              "      <td></td>\n",
              "      <td></td>\n",
              "      <td>[]</td>\n",
              "      <td>[]</td>\n",
              "      <td>[]</td>\n",
              "    </tr>\n",
              "    <tr>\n",
              "      <th>1</th>\n",
              "      <td>엔트리</td>\n",
              "      <td>NaN</td>\n",
              "      <td>NaN</td>\n",
              "      <td></td>\n",
              "      <td></td>\n",
              "      <td></td>\n",
              "      <td></td>\n",
              "      <td>어떤일을 해결하기위해선 학습이 필요하다</td>\n",
              "      <td>인간은 본능적으로 행동할수있고 인공지능은 정해진대로만 해야한다</td>\n",
              "      <td>휴대폰</td>\n",
              "      <td>[엔트리]</td>\n",
              "      <td>[엔트리]</td>\n",
              "      <td>[엔트리]</td>\n",
              "    </tr>\n",
              "    <tr>\n",
              "      <th>2</th>\n",
              "      <td>정보</td>\n",
              "      <td>NaN</td>\n",
              "      <td>NaN</td>\n",
              "      <td></td>\n",
              "      <td></td>\n",
              "      <td></td>\n",
              "      <td></td>\n",
              "      <td>인간이 로봇에게 인간처럼 행동해라고 입력했으니 거의 대부분이 인간과 공통점일것이다</td>\n",
              "      <td>창의성과 상상의 차이</td>\n",
              "      <td>감정을 표현하는 강아지 로봇</td>\n",
              "      <td>[정보]</td>\n",
              "      <td>[정보]</td>\n",
              "      <td>[정보]</td>\n",
              "    </tr>\n",
              "    <tr>\n",
              "      <th>3</th>\n",
              "      <td>정보</td>\n",
              "      <td>NaN</td>\n",
              "      <td>NaN</td>\n",
              "      <td>초등학교 컴퓨터실</td>\n",
              "      <td>1년</td>\n",
              "      <td>최근은 없다  학교수업빼고</td>\n",
              "      <td></td>\n",
              "      <td>움직인다  인간이 만들어낸것이다</td>\n",
              "      <td>내가직접하는지 안하는지  기분을 느낄수 있다</td>\n",
              "      <td>서빙</td>\n",
              "      <td>[정보]</td>\n",
              "      <td>[정보]</td>\n",
              "      <td>[정보]</td>\n",
              "    </tr>\n",
              "    <tr>\n",
              "      <th>4</th>\n",
              "      <td>엔트리</td>\n",
              "      <td>NaN</td>\n",
              "      <td>NaN</td>\n",
              "      <td></td>\n",
              "      <td></td>\n",
              "      <td></td>\n",
              "      <td></td>\n",
              "      <td>생각할수있다</td>\n",
              "      <td>감정의 유무</td>\n",
              "      <td>유튜브 시계등등</td>\n",
              "      <td>[엔트리]</td>\n",
              "      <td>[엔트리]</td>\n",
              "      <td>[엔트리]</td>\n",
              "    </tr>\n",
              "  </tbody>\n",
              "</table>\n",
              "</div>\n",
              "      <button class=\"colab-df-convert\" onclick=\"convertToInteractive('df-5930c484-8dde-4bb3-b9e2-07e480076336')\"\n",
              "              title=\"Convert this dataframe to an interactive table.\"\n",
              "              style=\"display:none;\">\n",
              "        \n",
              "  <svg xmlns=\"http://www.w3.org/2000/svg\" height=\"24px\"viewBox=\"0 0 24 24\"\n",
              "       width=\"24px\">\n",
              "    <path d=\"M0 0h24v24H0V0z\" fill=\"none\"/>\n",
              "    <path d=\"M18.56 5.44l.94 2.06.94-2.06 2.06-.94-2.06-.94-.94-2.06-.94 2.06-2.06.94zm-11 1L8.5 8.5l.94-2.06 2.06-.94-2.06-.94L8.5 2.5l-.94 2.06-2.06.94zm10 10l.94 2.06.94-2.06 2.06-.94-2.06-.94-.94-2.06-.94 2.06-2.06.94z\"/><path d=\"M17.41 7.96l-1.37-1.37c-.4-.4-.92-.59-1.43-.59-.52 0-1.04.2-1.43.59L10.3 9.45l-7.72 7.72c-.78.78-.78 2.05 0 2.83L4 21.41c.39.39.9.59 1.41.59.51 0 1.02-.2 1.41-.59l7.78-7.78 2.81-2.81c.8-.78.8-2.07 0-2.86zM5.41 20L4 18.59l7.72-7.72 1.47 1.35L5.41 20z\"/>\n",
              "  </svg>\n",
              "      </button>\n",
              "      \n",
              "  <style>\n",
              "    .colab-df-container {\n",
              "      display:flex;\n",
              "      flex-wrap:wrap;\n",
              "      gap: 12px;\n",
              "    }\n",
              "\n",
              "    .colab-df-convert {\n",
              "      background-color: #E8F0FE;\n",
              "      border: none;\n",
              "      border-radius: 50%;\n",
              "      cursor: pointer;\n",
              "      display: none;\n",
              "      fill: #1967D2;\n",
              "      height: 32px;\n",
              "      padding: 0 0 0 0;\n",
              "      width: 32px;\n",
              "    }\n",
              "\n",
              "    .colab-df-convert:hover {\n",
              "      background-color: #E2EBFA;\n",
              "      box-shadow: 0px 1px 2px rgba(60, 64, 67, 0.3), 0px 1px 3px 1px rgba(60, 64, 67, 0.15);\n",
              "      fill: #174EA6;\n",
              "    }\n",
              "\n",
              "    [theme=dark] .colab-df-convert {\n",
              "      background-color: #3B4455;\n",
              "      fill: #D2E3FC;\n",
              "    }\n",
              "\n",
              "    [theme=dark] .colab-df-convert:hover {\n",
              "      background-color: #434B5C;\n",
              "      box-shadow: 0px 1px 3px 1px rgba(0, 0, 0, 0.15);\n",
              "      filter: drop-shadow(0px 1px 2px rgba(0, 0, 0, 0.3));\n",
              "      fill: #FFFFFF;\n",
              "    }\n",
              "  </style>\n",
              "\n",
              "      <script>\n",
              "        const buttonEl =\n",
              "          document.querySelector('#df-5930c484-8dde-4bb3-b9e2-07e480076336 button.colab-df-convert');\n",
              "        buttonEl.style.display =\n",
              "          google.colab.kernel.accessAllowed ? 'block' : 'none';\n",
              "\n",
              "        async function convertToInteractive(key) {\n",
              "          const element = document.querySelector('#df-5930c484-8dde-4bb3-b9e2-07e480076336');\n",
              "          const dataTable =\n",
              "            await google.colab.kernel.invokeFunction('convertToInteractive',\n",
              "                                                     [key], {});\n",
              "          if (!dataTable) return;\n",
              "\n",
              "          const docLinkHtml = 'Like what you see? Visit the ' +\n",
              "            '<a target=\"_blank\" href=https://colab.research.google.com/notebooks/data_table.ipynb>data table notebook</a>'\n",
              "            + ' to learn more about interactive tables.';\n",
              "          element.innerHTML = '';\n",
              "          dataTable['output_type'] = 'display_data';\n",
              "          await google.colab.output.renderOutput(dataTable, element);\n",
              "          const docLink = document.createElement('div');\n",
              "          docLink.innerHTML = docLinkHtml;\n",
              "          element.appendChild(docLink);\n",
              "        }\n",
              "      </script>\n",
              "    </div>\n",
              "  </div>\n",
              "  "
            ],
            "text/plain": [
              "  1-5. 학교에서 배웠던 과목명을 기억나는 대로 모두 적어주세요. Unnamed: 1  ... 1-5_nouns  count\n",
              "0                                            ⑩ 기타  ...        []     []\n",
              "1                                 엔트리         NaN  ...     [엔트리]  [엔트리]\n",
              "2                                   정보        NaN  ...      [정보]   [정보]\n",
              "3                                   정보        NaN  ...      [정보]   [정보]\n",
              "4                                  엔트리        NaN  ...     [엔트리]  [엔트리]\n",
              "\n",
              "[5 rows x 13 columns]"
            ]
          },
          "metadata": {},
          "execution_count": 53
        }
      ]
    },
    {
      "cell_type": "code",
      "source": [
        "df['count'] = df['1-5_nouns']"
      ],
      "metadata": {
        "id": "BY_5JQmwGr7C"
      },
      "execution_count": 50,
      "outputs": []
    },
    {
      "cell_type": "code",
      "source": [
        ""
      ],
      "metadata": {
        "id": "o1Oj6otVGNOv"
      },
      "execution_count": null,
      "outputs": []
    },
    {
      "cell_type": "code",
      "source": [
        ""
      ],
      "metadata": {
        "id": "liJuZZBuILL9"
      },
      "execution_count": null,
      "outputs": []
    },
    {
      "cell_type": "markdown",
      "metadata": {
        "id": "Gl_NxvWjRQ1q"
      },
      "source": [
        "[파생변수 생성]"
      ]
    },
    {
      "cell_type": "code",
      "execution_count": null,
      "metadata": {
        "collapsed": true,
        "colab": {
          "base_uri": "https://localhost:8080/"
        },
        "id": "gJzqthBxRQ1r",
        "outputId": "11bcce2c-967e-4659-d233-7166727680d3"
      },
      "outputs": [
        {
          "output_type": "stream",
          "name": "stdout",
          "text": [
            "start            object\n",
            "end              object\n",
            "category         object\n",
            "count             int64\n",
            "title            object\n",
            "content          object\n",
            "title_token      object\n",
            "content_token    object\n",
            "token_final      object\n",
            "dtype: object\n"
          ]
        }
      ],
      "source": [
        "df['token_final'] = df.title_token + df.content_token\n",
        "\n",
        "df['count'] = df['count'].replace({',' : ''}, regex = True).apply(lambda x : int(x))\n",
        "\n",
        "print(df.dtypes)\n",
        "\n",
        "df['label'] = df['count'].apply(lambda x: 'Yes' if x>=1000 else 'No')"
      ]
    },
    {
      "cell_type": "code",
      "execution_count": null,
      "metadata": {
        "collapsed": true,
        "id": "22csw9xBRQ1s"
      },
      "outputs": [],
      "source": [
        "df_drop = df[['token_final', 'label']]"
      ]
    },
    {
      "cell_type": "code",
      "execution_count": null,
      "metadata": {
        "collapsed": true,
        "colab": {
          "base_uri": "https://localhost:8080/",
          "height": 206
        },
        "id": "bmVokp-GRQ1s",
        "outputId": "4e829e9e-84be-44b7-ab4c-ec9491895235"
      },
      "outputs": [
        {
          "output_type": "execute_result",
          "data": {
            "text/html": [
              "\n",
              "  <div id=\"df-4d94aaaa-9592-4d28-8e52-20c9999478d3\">\n",
              "    <div class=\"colab-df-container\">\n",
              "      <div>\n",
              "<style scoped>\n",
              "    .dataframe tbody tr th:only-of-type {\n",
              "        vertical-align: middle;\n",
              "    }\n",
              "\n",
              "    .dataframe tbody tr th {\n",
              "        vertical-align: top;\n",
              "    }\n",
              "\n",
              "    .dataframe thead th {\n",
              "        text-align: right;\n",
              "    }\n",
              "</style>\n",
              "<table border=\"1\" class=\"dataframe\">\n",
              "  <thead>\n",
              "    <tr style=\"text-align: right;\">\n",
              "      <th></th>\n",
              "      <th>token_final</th>\n",
              "      <th>label</th>\n",
              "    </tr>\n",
              "  </thead>\n",
              "  <tbody>\n",
              "    <tr>\n",
              "      <th>0</th>\n",
              "      <td>[서울, 지방, 병무청, 탈의실, 에, 설치, 된, 에, 대한, 진상, 규명, 을,...</td>\n",
              "      <td>No</td>\n",
              "    </tr>\n",
              "    <tr>\n",
              "      <th>1</th>\n",
              "      <td>[주식시장, 활성화, 및, 소액, 개미, 투자자, 보호, 우리, 나라, 코스피, 총...</td>\n",
              "      <td>No</td>\n",
              "    </tr>\n",
              "    <tr>\n",
              "      <th>2</th>\n",
              "      <td>[교정, 기관, 의, 민낮, 일로, 국민, 청원, 신청, 저, 구치소, 교도관, 이...</td>\n",
              "      <td>No</td>\n",
              "    </tr>\n",
              "    <tr>\n",
              "      <th>3</th>\n",
              "      <td>[미세먼지, 저, 감, 대책, 미세먼지, 심각, 성은, 이제, 적극, 대안, 요구,...</td>\n",
              "      <td>No</td>\n",
              "    </tr>\n",
              "    <tr>\n",
              "      <th>4</th>\n",
              "      <td>[악질, 세, 입자, 방지, 를, 위, 한, 세, 입자, 보호, 법, 을, 재정, ...</td>\n",
              "      <td>Yes</td>\n",
              "    </tr>\n",
              "  </tbody>\n",
              "</table>\n",
              "</div>\n",
              "      <button class=\"colab-df-convert\" onclick=\"convertToInteractive('df-4d94aaaa-9592-4d28-8e52-20c9999478d3')\"\n",
              "              title=\"Convert this dataframe to an interactive table.\"\n",
              "              style=\"display:none;\">\n",
              "        \n",
              "  <svg xmlns=\"http://www.w3.org/2000/svg\" height=\"24px\"viewBox=\"0 0 24 24\"\n",
              "       width=\"24px\">\n",
              "    <path d=\"M0 0h24v24H0V0z\" fill=\"none\"/>\n",
              "    <path d=\"M18.56 5.44l.94 2.06.94-2.06 2.06-.94-2.06-.94-.94-2.06-.94 2.06-2.06.94zm-11 1L8.5 8.5l.94-2.06 2.06-.94-2.06-.94L8.5 2.5l-.94 2.06-2.06.94zm10 10l.94 2.06.94-2.06 2.06-.94-2.06-.94-.94-2.06-.94 2.06-2.06.94z\"/><path d=\"M17.41 7.96l-1.37-1.37c-.4-.4-.92-.59-1.43-.59-.52 0-1.04.2-1.43.59L10.3 9.45l-7.72 7.72c-.78.78-.78 2.05 0 2.83L4 21.41c.39.39.9.59 1.41.59.51 0 1.02-.2 1.41-.59l7.78-7.78 2.81-2.81c.8-.78.8-2.07 0-2.86zM5.41 20L4 18.59l7.72-7.72 1.47 1.35L5.41 20z\"/>\n",
              "  </svg>\n",
              "      </button>\n",
              "      \n",
              "  <style>\n",
              "    .colab-df-container {\n",
              "      display:flex;\n",
              "      flex-wrap:wrap;\n",
              "      gap: 12px;\n",
              "    }\n",
              "\n",
              "    .colab-df-convert {\n",
              "      background-color: #E8F0FE;\n",
              "      border: none;\n",
              "      border-radius: 50%;\n",
              "      cursor: pointer;\n",
              "      display: none;\n",
              "      fill: #1967D2;\n",
              "      height: 32px;\n",
              "      padding: 0 0 0 0;\n",
              "      width: 32px;\n",
              "    }\n",
              "\n",
              "    .colab-df-convert:hover {\n",
              "      background-color: #E2EBFA;\n",
              "      box-shadow: 0px 1px 2px rgba(60, 64, 67, 0.3), 0px 1px 3px 1px rgba(60, 64, 67, 0.15);\n",
              "      fill: #174EA6;\n",
              "    }\n",
              "\n",
              "    [theme=dark] .colab-df-convert {\n",
              "      background-color: #3B4455;\n",
              "      fill: #D2E3FC;\n",
              "    }\n",
              "\n",
              "    [theme=dark] .colab-df-convert:hover {\n",
              "      background-color: #434B5C;\n",
              "      box-shadow: 0px 1px 3px 1px rgba(0, 0, 0, 0.15);\n",
              "      filter: drop-shadow(0px 1px 2px rgba(0, 0, 0, 0.3));\n",
              "      fill: #FFFFFF;\n",
              "    }\n",
              "  </style>\n",
              "\n",
              "      <script>\n",
              "        const buttonEl =\n",
              "          document.querySelector('#df-4d94aaaa-9592-4d28-8e52-20c9999478d3 button.colab-df-convert');\n",
              "        buttonEl.style.display =\n",
              "          google.colab.kernel.accessAllowed ? 'block' : 'none';\n",
              "\n",
              "        async function convertToInteractive(key) {\n",
              "          const element = document.querySelector('#df-4d94aaaa-9592-4d28-8e52-20c9999478d3');\n",
              "          const dataTable =\n",
              "            await google.colab.kernel.invokeFunction('convertToInteractive',\n",
              "                                                     [key], {});\n",
              "          if (!dataTable) return;\n",
              "\n",
              "          const docLinkHtml = 'Like what you see? Visit the ' +\n",
              "            '<a target=\"_blank\" href=https://colab.research.google.com/notebooks/data_table.ipynb>data table notebook</a>'\n",
              "            + ' to learn more about interactive tables.';\n",
              "          element.innerHTML = '';\n",
              "          dataTable['output_type'] = 'display_data';\n",
              "          await google.colab.output.renderOutput(dataTable, element);\n",
              "          const docLink = document.createElement('div');\n",
              "          docLink.innerHTML = docLinkHtml;\n",
              "          element.appendChild(docLink);\n",
              "        }\n",
              "      </script>\n",
              "    </div>\n",
              "  </div>\n",
              "  "
            ],
            "text/plain": [
              "                                         token_final label\n",
              "0  [서울, 지방, 병무청, 탈의실, 에, 설치, 된, 에, 대한, 진상, 규명, 을,...    No\n",
              "1  [주식시장, 활성화, 및, 소액, 개미, 투자자, 보호, 우리, 나라, 코스피, 총...    No\n",
              "2  [교정, 기관, 의, 민낮, 일로, 국민, 청원, 신청, 저, 구치소, 교도관, 이...    No\n",
              "3  [미세먼지, 저, 감, 대책, 미세먼지, 심각, 성은, 이제, 적극, 대안, 요구,...    No\n",
              "4  [악질, 세, 입자, 방지, 를, 위, 한, 세, 입자, 보호, 법, 을, 재정, ...   Yes"
            ]
          },
          "metadata": {},
          "execution_count": 16
        }
      ],
      "source": [
        "df_drop.head()"
      ]
    },
    {
      "cell_type": "markdown",
      "metadata": {
        "id": "1So0M325RQ1t"
      },
      "source": [
        "[데이터 엑셀로 저장]"
      ]
    },
    {
      "cell_type": "code",
      "execution_count": null,
      "metadata": {
        "collapsed": true,
        "id": "wpucz5nbRQ1u"
      },
      "outputs": [],
      "source": [
        "df_drop.to_csv('data/df_drop.csv', index = False, encoding = 'utf-8-sig')"
      ]
    },
    {
      "cell_type": "markdown",
      "metadata": {
        "id": "sqrKYMRARQ1u"
      },
      "source": [
        "# 2.4 단어 임베딩"
      ]
    },
    {
      "cell_type": "markdown",
      "metadata": {
        "id": "3MTdHW6aRQ1v"
      },
      "source": [
        "[단어 임베딩]"
      ]
    },
    {
      "cell_type": "code",
      "execution_count": null,
      "metadata": {
        "collapsed": true,
        "colab": {
          "base_uri": "https://localhost:8080/"
        },
        "id": "1p7eWT4-RQ1v",
        "outputId": "063f5d9a-80f5-48c3-a8cf-c201cd8dfaeb"
      },
      "outputs": [
        {
          "output_type": "stream",
          "name": "stdout",
          "text": [
            "Word2Vec(vocab=14103, size=100, alpha=0.025)\n",
            "[('면제', 0.9990832805633545), ('권한', 0.9990674257278442), ('소장', 0.9990596771240234), ('정황', 0.9990448951721191), ('대가', 0.9990392327308655), ('도로', 0.9990255832672119), ('카드', 0.9990049600601196), ('담당자', 0.9990048408508301), ('토', 0.9990041255950928), ('내부', 0.9990000128746033)]\n"
          ]
        }
      ],
      "source": [
        "from gensim.models import Word2Vec\n",
        "\n",
        "embedding_model = Word2Vec(df_drop['token_final'], \n",
        "                           sg = 1, # skip-gram\n",
        "                           size = 100, \n",
        "                           window = 2, \n",
        "                           min_count = 1, \n",
        "                           workers = 4\n",
        "                           )\n",
        "\n",
        "print(embedding_model)\n",
        "\n",
        "model_result = embedding_model.wv.most_similar(\"음주운전\")\n",
        "print(model_result)"
      ]
    },
    {
      "cell_type": "markdown",
      "metadata": {
        "id": "Covs8el5RQ1w"
      },
      "source": [
        "[임베딩 모델 저장 및 로드]"
      ]
    },
    {
      "cell_type": "code",
      "execution_count": null,
      "metadata": {
        "collapsed": true,
        "colab": {
          "base_uri": "https://localhost:8080/"
        },
        "id": "Uasub25lRQ1w",
        "outputId": "635bacef-4779-415e-9f58-e05b23595f83"
      },
      "outputs": [
        {
          "output_type": "stream",
          "name": "stdout",
          "text": [
            "[('면제', 0.9990832805633545), ('권한', 0.9990674257278442), ('소장', 0.9990596771240234), ('정황', 0.9990448951721191), ('대가', 0.9990392327308655), ('도로', 0.9990255832672119), ('카드', 0.9990049600601196), ('담당자', 0.9990048408508301), ('토', 0.9990041255950928), ('내부', 0.9990000128746033)]\n"
          ]
        }
      ],
      "source": [
        "from gensim.models import KeyedVectors\n",
        "\n",
        "embedding_model.wv.save_word2vec_format('data/petitions_tokens_w2v') # 모델 저장\n",
        "loaded_model = KeyedVectors.load_word2vec_format('data/petitions_tokens_w2v') # 모델 로드\n",
        "\n",
        "model_result = loaded_model.most_similar(\"음주운전\")\n",
        "print(model_result)"
      ]
    },
    {
      "cell_type": "markdown",
      "metadata": {
        "id": "slb2bUyhRQ1x"
      },
      "source": [
        "# 2.5 실험 설계"
      ]
    },
    {
      "cell_type": "markdown",
      "metadata": {
        "id": "7QhjpQeiRQ1x"
      },
      "source": [
        "[데이터셋 분할 및 저장]"
      ]
    },
    {
      "cell_type": "code",
      "execution_count": null,
      "metadata": {
        "collapsed": true,
        "id": "mbCb_QyrRQ1y"
      },
      "outputs": [],
      "source": [
        "from numpy.random import RandomState\n",
        "\n",
        "rng = RandomState()\n",
        "\n",
        "tr = df_drop.sample(frac=0.8, random_state=rng)\n",
        "val = df_drop.loc[~df_drop.index.isin(tr.index)]\n",
        "\n",
        "tr.to_csv('data/train.csv', index=False, encoding='utf-8-sig')\n",
        "val.to_csv('data/validation.csv', index=False, encoding='utf-8-sig')"
      ]
    },
    {
      "cell_type": "markdown",
      "metadata": {
        "id": "Xz_b9LEURQ1y"
      },
      "source": [
        "[Field클래스 정의]"
      ]
    },
    {
      "cell_type": "code",
      "source": [
        "!!pip install -U torchtext==0.8.0"
      ],
      "metadata": {
        "colab": {
          "base_uri": "https://localhost:8080/"
        },
        "id": "YunXiZ7WlSZD",
        "outputId": "29c78b93-9cee-41c3-e374-0e79b4e40036"
      },
      "execution_count": null,
      "outputs": [
        {
          "output_type": "execute_result",
          "data": {
            "text/plain": [
              "['Requirement already satisfied: torchtext==0.8.0 in /usr/local/lib/python3.7/dist-packages (0.8.0)',\n",
              " 'Requirement already satisfied: torch in /usr/local/lib/python3.7/dist-packages (from torchtext==0.8.0) (1.10.0+cu111)',\n",
              " 'Requirement already satisfied: requests in /usr/local/lib/python3.7/dist-packages (from torchtext==0.8.0) (2.23.0)',\n",
              " 'Requirement already satisfied: tqdm in /usr/local/lib/python3.7/dist-packages (from torchtext==0.8.0) (4.62.3)',\n",
              " 'Requirement already satisfied: numpy in /usr/local/lib/python3.7/dist-packages (from torchtext==0.8.0) (1.19.5)',\n",
              " 'Requirement already satisfied: urllib3!=1.25.0,!=1.25.1,<1.26,>=1.21.1 in /usr/local/lib/python3.7/dist-packages (from requests->torchtext==0.8.0) (1.24.3)',\n",
              " 'Requirement already satisfied: certifi>=2017.4.17 in /usr/local/lib/python3.7/dist-packages (from requests->torchtext==0.8.0) (2021.10.8)',\n",
              " 'Requirement already satisfied: chardet<4,>=3.0.2 in /usr/local/lib/python3.7/dist-packages (from requests->torchtext==0.8.0) (3.0.4)',\n",
              " 'Requirement already satisfied: idna<3,>=2.5 in /usr/local/lib/python3.7/dist-packages (from requests->torchtext==0.8.0) (2.10)',\n",
              " 'Requirement already satisfied: typing-extensions in /usr/local/lib/python3.7/dist-packages (from torch->torchtext==0.8.0) (3.10.0.2)']"
            ]
          },
          "metadata": {},
          "execution_count": 25
        }
      ]
    },
    {
      "cell_type": "code",
      "execution_count": null,
      "metadata": {
        "collapsed": true,
        "id": "U9WtjtqaRQ1z"
      },
      "outputs": [],
      "source": [
        "import torchtext\n",
        "from torchtext.legacy.data import Field\n",
        "\n",
        "def tokenizer(text):\n",
        "    text = re.sub('[\\[\\]\\']', '', str(text))\n",
        "    text = text.split(', ')\n",
        "    return text\n",
        "\n",
        "TEXT = Field(tokenize=tokenizer)\n",
        "LABEL = Field(sequential = False)"
      ]
    },
    {
      "cell_type": "markdown",
      "metadata": {
        "id": "IVEDr0SDRQ1z"
      },
      "source": [
        "[데이터 불러오기]"
      ]
    },
    {
      "cell_type": "code",
      "execution_count": null,
      "metadata": {
        "collapsed": true,
        "colab": {
          "base_uri": "https://localhost:8080/"
        },
        "id": "RD9R2iTQRQ1z",
        "outputId": "f363cfce-e8b9-4db3-b442-ddd453789ea8"
      },
      "outputs": [
        {
          "output_type": "stream",
          "name": "stdout",
          "text": [
            "Train: ['악질', '세', '입자', '방지', '를', '위', '한', '세', '입자', '보호', '법', '을', '재정', '해주세요', '저', '우선', '아이', '셋', '부모', '식구', '편이', '아이', '집', '나름', '꿈', '가지', '좀더', '집', '분양', '아이', '학교', '문제', '분양', '집', '바로', '상황', '우선', '월세', '보증금', '백', '월', '보증금', '가격', '이유', '입자', '입자', '이후', '관리', '비', '한번', '걸', '알', '나름', '유주', '입자', '생활', '연락', '집주인', '관리', '비', '일일이', '체크', '웃기', '생각', '체납', '유주', '입자', '주시', '등', '한번', '주의', '알림', '관리소', '원망', '관리', '비', '보증금', '월세', '보증금', '멸후', '개월', '손해', '육박', '나름', '배려', '저희', '일주일', '뒤', '달뒤', '말', '전혀', '노력', '입자', '달', '달이', '지옥', '저희', '대출', '이자', '매', '마이너스', '통장', '이제', '더', '이상', '한계', '입자', '농락', '기분', '막상', '단전', '입자', '관리', '사무소', '입자', '보호', '법', '이야기', '이', '말', '사람', '난방', '수도', '전기', '저희', '빚', '요', '왜', '국가', '입자', '보호', '법', '는걸', '국가', '돈', '보호', '유주', '돈', '세입', '자만', '보호', '유주', '악한', '유주', '단전', '집주인', '누가', '부동산', '입자', '보호', '법', '수정', '금지', '입자', '보호', '법', '보증금', '상태', '적용', '입자', '보호', '법도', '예외', '법안', '명도', '소송도', '보증금', '경우', '제외', '보증금', '입자', '농간', '소유', '주의', '빚', '때', '소송', '진행', '법안', '시기', '정말', '법', '악용', '악질', '입자', '존재', '정말', '유주', '입장', '악질', '입자', '때문', '가슴앓이', '눈물', '경우', '사실', '꼭', '인지', '내', '집', '내', '살', '보지', '못', '새집', '생판', '피', '타인', '점거', '어이', '제때', '가지', '못', '이', '뭐', '상황', '한탄'] Yes\n",
            "Validation: ['서울', '지방', '병무청', '탈의실', '에', '설치', '된', '에', '대한', '진상', '규명', '을', '요구', '한', '다', '또한', '인권위', '의', '미온', '적', '대응', '을', '규탄', '한다', '본인', '경', '서울', '지방', '병무청', '제', '검사', '탈의실', '수', '것', '발견', '탈의실', '천장', '를', '발견', '것', '본인', '이', '경악', '탈의실', '를', '설치', '것', '개인정보보호법', '항', '위반', '사안', '법적', '문제', '촬영', '성폭력', '범죄', '처벌', '등', '관', '특례법', '항', '위반', '또한', '법적', '제일', '뿐', '개인', '자유', '침해', '성적', '수치심', '매우', '윤리', '문제', '불법', '카메라', '그', '자체', '문제', '공공기관', '탈의실', '불법', '비', '윤리', '카메라', '설치', '운영', '상황', '발생', '도대체', '한국', '정부', '인권', '무엇', '생각', '것', '발견', '직후', '인권위', '진정', '인권위', '현재', '조사', '진행', '답변', '병무청', '답변', '더', '이상', '답변', '것', '의미', '생각', '본인', '모', '커뮤니티', '이', '사실', '이후', '이슈', '화가', '병무청', '운영', '대답', '이', '대한', '조사', '경과', '발표', '사과', '책임', '대응', '전혀', '개인', '자유', '권리', '본질', '내용', '침해', '강제', '징집', '국제노동기구', '인정', '강제', '징용', '강제노동', '남성', '국가', '신체', '감시', '사건', '한국', '정부', '병역의무', '인권', '생각', '언제', '국가', '개인', '노예', '취급', '것', '백원', '시급', '강제', '폭력', '속', '것', '모자라', '이제', '어처구니', '일', '것', '경악', '수', '이', '본인', '위', '사실', '규탄', '아래', '대응', '요구', '서울', '지방', '병무청', '징병검사', '소', '탈의실', '설치', '경위', '운영', '여부', '관리', '역', '등', '대해', '낱낱이', '조사', '그', '진상', '병무청장', '지방', '병무청장', '이', '사건', '책임', '지고', '사퇴', '하라', '자진사퇴', '거부', '정부', '이', '파면', '이', '사건', '관련', '책임자', '담당자', '처벌', '병무', '정장', '명의', '사과문', '병무청', '사이트', '비롯', '온라인과', '전국', '신체검사', '소', '신체검사', '대상', '그', '사과', '내용', '알게', '사과', '내용', '조사', '경과', '언론', '배포', '이유', '인권위', '위', '민원', '무시', '조사', '책임자', '문책', '병무청', '제보자', '민원', '보복', '감시', '제보자', '민원', '적극', '보호', '한국', '정부', '남성', '강제', '징집', '강제노동', '대해', '최저임금', '배', '이상', '시급', '지급', '내', '현재', '징병제', '개혁', '강제', '징집', '강제', '징용', '강제노동', '폐지', '또한', '지금', '강제', '피해', '당한', '당사자', '사과', '합당', '피해', '보상금', '제공', '각주', '개인정보보호법', '제', '항', '제', '영상', '정보처리', '기기', '설치', '운영', '제한', '누구', '불', '특정', '다수', '이용', '목욕실', '화장실', '발', '한실', '탈의실', '등', '개인', '사생활', '현저', '침해', '우려', '장소', '내부', '볼', '수', '영상', '정보처리', '기기', '설치', '운영', '다만', '교도소', '정신', '보건', '시설', '등', '법령', '근거', '사람', '구금', '거나', '보호', '시설', '로서', '대통령령', '정', '시설', '대하', '여', '각주', '개인정보보호법', '제', '과태료', '항', '호', '다음', '각', '호의', '하나', '해당', '자', '이하', '과태료', '부과', '제', '항', '위반', '영상', '정보처리', '기기', '설치', '운영', '자', '각주', '성폭력', '범죄', '처벌', '등', '관', '특례법', '제', '카메라', '등', '이용', '촬영', '항', '카메라', '그', '이', '기능', '기계', '장치', '이용', '성적', '욕망', '수치심', '유발', '수', '사람', '신체', '촬영', '대상자', '의사', '촬영', '이하', '징역', '이하', '벌금', '처', '개정', '각주', '국제노동기구', '제', '호', '강제', '근로', '협약', '제', '호', '강제', '근로', '폐지', '협약', '제', '호', '정치', '견해', '기존', '정치', '사회', '제도', '사상', '반대', '견해', '발표', '것', '대한', '제재', '및', '정치', '억압', '교육', '수단', '나', '발전', '목적', '노동', '동원', '이용', '경우', '노동', '규제', '수단', '파업', '참가', '대한', '제재', '마', '인종', '사회', '민족', '종교', '차별', '대우', '수단'] No\n"
          ]
        }
      ],
      "source": [
        "from torchtext.legacy.data import TabularDataset\n",
        "\n",
        "train, validation = TabularDataset.splits(\n",
        "    path = 'data/',\n",
        "    train = 'train.csv',\n",
        "    validation = 'validation.csv',\n",
        "    format = 'csv',\n",
        "    fields = [('text', TEXT), ('label', LABEL)],\n",
        "    skip_header = True\n",
        ")\n",
        "\n",
        "print(\"Train:\", train[0].text,  train[0].label)\n",
        "print(\"Validation:\", validation[0].text, validation[0].label)"
      ]
    },
    {
      "cell_type": "markdown",
      "metadata": {
        "id": "K9pArv5iRQ10"
      },
      "source": [
        "[단어장 및 DataLoader 정의]"
      ]
    },
    {
      "cell_type": "code",
      "execution_count": null,
      "metadata": {
        "collapsed": true,
        "colab": {
          "base_uri": "https://localhost:8080/"
        },
        "id": "SyLCSobbRQ10",
        "outputId": "901aa5b0-08f1-4a2d-ba58-61fb03e72b3c"
      },
      "outputs": [
        {
          "output_type": "stream",
          "name": "stderr",
          "text": [
            "  0%|          | 0/14103 [00:00<?, ?it/s]Skipping token b'14103' with 1-dimensional vector [b'100']; likely a header\n",
            "100%|██████████| 14103/14103 [00:03<00:00, 4333.44it/s] \n"
          ]
        },
        {
          "output_type": "stream",
          "name": "stdout",
          "text": [
            "임베딩 벡터의 개수와 차원 : torch.Size([12897, 100]) \n"
          ]
        }
      ],
      "source": [
        "import torch\n",
        "from torchtext.vocab import Vectors\n",
        "from torchtext.legacy.data import BucketIterator\n",
        "\n",
        "vectors = Vectors(name=\"data/petitions_tokens_w2v\")\n",
        "\n",
        "TEXT.build_vocab(train, vectors = vectors, min_freq = 1, max_size = None)\n",
        "LABEL.build_vocab(train)\n",
        "\n",
        "vocab = TEXT.vocab\n",
        "\n",
        "device = torch.device(\"cuda\" if torch.cuda.is_available() else \"cpu\")\n",
        "\n",
        "train_iter, validation_iter = BucketIterator.splits(\n",
        "    datasets = (train, validation),\n",
        "    batch_size = 8,\n",
        "    device = device,\n",
        "    sort = False\n",
        ")\n",
        "\n",
        "print('임베딩 벡터의 개수와 차원 : {} '.format(TEXT.vocab.vectors.shape))"
      ]
    },
    {
      "cell_type": "markdown",
      "metadata": {
        "id": "cRUaXuXORQ11"
      },
      "source": [
        "# 2.6 TextCNN"
      ]
    },
    {
      "cell_type": "markdown",
      "metadata": {
        "id": "DexQkkL3RQ11"
      },
      "source": [
        "[TextCNN 모델링]"
      ]
    },
    {
      "cell_type": "code",
      "execution_count": null,
      "metadata": {
        "collapsed": true,
        "id": "9GdRUVz2RQ11"
      },
      "outputs": [],
      "source": [
        "import torch.nn as nn   \n",
        "import torch.optim as optim \n",
        "import torch.nn.functional as F \n",
        "\n",
        "class TextCNN(nn.Module): \n",
        "    \n",
        "    def __init__(self, vocab_built, emb_dim, dim_channel, kernel_wins, num_class):\n",
        "        \n",
        "        super(TextCNN, self).__init__()\n",
        "        \n",
        "        self.embed = nn.Embedding(len(vocab_built), emb_dim)\n",
        "        self.embed.weight.data.copy_(vocab_built.vectors)      \n",
        "    \n",
        "        self.convs = nn.ModuleList([nn.Conv2d(1, dim_channel, (w, emb_dim)) for w in kernel_wins])\n",
        "        self.relu = nn.ReLU()                \n",
        "        self.dropout = nn.Dropout(0.4)         \n",
        "        self.fc = nn.Linear(len(kernel_wins)*dim_channel, num_class)     \n",
        "        \n",
        "    def forward(self, x):  \n",
        "      \n",
        "        emb_x = self.embed(x)           \n",
        "        emb_x = emb_x.unsqueeze(1)  \n",
        "\n",
        "        con_x = [self.relu(conv(emb_x)) for conv in self.convs]       \n",
        "\n",
        "        pool_x = [F.max_pool1d(x.squeeze(-1), x.size()[2]) for x in con_x]    \n",
        "        \n",
        "        fc_x = torch.cat(pool_x, dim=1) \n",
        "        fc_x = fc_x.squeeze(-1)       \n",
        "        fc_x = self.dropout(fc_x)         \n",
        "\n",
        "        logit = self.fc(fc_x)     \n",
        "        \n",
        "        return logit"
      ]
    },
    {
      "cell_type": "markdown",
      "metadata": {
        "id": "RbvxSyhvRQ12"
      },
      "source": [
        "[모델 학습 함수 정의]"
      ]
    },
    {
      "cell_type": "code",
      "execution_count": null,
      "metadata": {
        "collapsed": true,
        "id": "GOsTqGEiRQ12"
      },
      "outputs": [],
      "source": [
        "def train(model, device, train_itr, optimizer):\n",
        "    \n",
        "    model.train()                               \n",
        "    corrects, train_loss = 0.0,0        \n",
        "    \n",
        "    for batch in train_itr:\n",
        "        \n",
        "        text, target = batch.text, batch.label      \n",
        "        text = torch.transpose(text, 0, 1)          \n",
        "        target.data.sub_(1)                                 \n",
        "        text, target = text.to(device), target.to(device)  \n",
        "\n",
        "        optimizer.zero_grad()                           \n",
        "        logit = model(text)                         \n",
        "    \n",
        "        loss = F.cross_entropy(logit, target)   \n",
        "        loss.backward()  \n",
        "        optimizer.step()  \n",
        "        \n",
        "        train_loss += loss.item()    \n",
        "        result = torch.max(logit,1)[1] \n",
        "        corrects += (result.view(target.size()).data == target.data).sum()\n",
        "        \n",
        "    train_loss /= len(train_itr.dataset)\n",
        "    accuracy = 100.0 * corrects / len(train_itr.dataset)\n",
        "\n",
        "    return train_loss, accuracy"
      ]
    },
    {
      "cell_type": "markdown",
      "metadata": {
        "id": "VEjjHXofRQ13"
      },
      "source": [
        "[모델 평가 함수 정의]"
      ]
    },
    {
      "cell_type": "code",
      "execution_count": null,
      "metadata": {
        "collapsed": true,
        "id": "syFDLIuMRQ13"
      },
      "outputs": [],
      "source": [
        "def evaluate(model, device, itr):\n",
        "    \n",
        "    model.eval()\n",
        "    corrects, test_loss = 0.0, 0\n",
        "\n",
        "    for batch in itr:\n",
        "        \n",
        "        text = batch.text\n",
        "        target = batch.label\n",
        "        text = torch.transpose(text, 0, 1)\n",
        "        target.data.sub_(1)\n",
        "        text, target = text.to(device), target.to(device)\n",
        "        \n",
        "        logit = model(text)\n",
        "        loss = F.cross_entropy(logit, target)\n",
        "\n",
        "        test_loss += loss.item()\n",
        "        result = torch.max(logit,1)[1]\n",
        "        corrects += (result.view(target.size()).data == target.data).sum()\n",
        "\n",
        "    test_loss /= len(itr.dataset) \n",
        "    accuracy = 100.0 * corrects / len(itr.dataset)\n",
        "    \n",
        "    return test_loss, accuracy"
      ]
    },
    {
      "cell_type": "markdown",
      "metadata": {
        "id": "MdUrbyDeRQ13"
      },
      "source": [
        "[모델 학습 및 성능 확인]"
      ]
    },
    {
      "cell_type": "code",
      "execution_count": null,
      "metadata": {
        "collapsed": true,
        "colab": {
          "base_uri": "https://localhost:8080/"
        },
        "id": "v3pMoOs5RQ13",
        "outputId": "689d185d-c2d6-4947-db24-49c9f4337264"
      },
      "outputs": [
        {
          "output_type": "stream",
          "name": "stdout",
          "text": [
            "TextCNN(\n",
            "  (embed): Embedding(12897, 100)\n",
            "  (convs): ModuleList(\n",
            "    (0): Conv2d(1, 10, kernel_size=(3, 100), stride=(1, 1))\n",
            "    (1): Conv2d(1, 10, kernel_size=(4, 100), stride=(1, 1))\n",
            "    (2): Conv2d(1, 10, kernel_size=(5, 100), stride=(1, 1))\n",
            "  )\n",
            "  (relu): ReLU()\n",
            "  (dropout): Dropout(p=0.4, inplace=False)\n",
            "  (fc): Linear(in_features=30, out_features=2, bias=True)\n",
            ")\n",
            "Train Epoch: 1 \t Loss: 0.08652923487899296 \t Accuracy: 54.682273864746094%\n",
            "Valid Epoch: 1 \t Loss: 0.09036824107170105 \t Accuracy: 47.33333206176758%\n",
            "model saves at 47.33333206176758 accuracy\n",
            "-----------------------------------------------------------------------------\n",
            "Train Epoch: 2 \t Loss: 0.08575068862741209 \t Accuracy: 57.52508544921875%\n",
            "Valid Epoch: 2 \t Loss: 0.08894951105117797 \t Accuracy: 50.66666793823242%\n",
            "model saves at 50.66666793823242 accuracy\n",
            "-----------------------------------------------------------------------------\n",
            "Train Epoch: 3 \t Loss: 0.08596559043313348 \t Accuracy: 56.5217399597168%\n",
            "Valid Epoch: 3 \t Loss: 0.09074799378712972 \t Accuracy: 47.33333206176758%\n",
            "-----------------------------------------------------------------------------\n"
          ]
        }
      ],
      "source": [
        "model = TextCNN(vocab, 100, 10, [3, 4, 5], 2).to(device)\n",
        "print(model)\n",
        "\n",
        "device = torch.device(\"cuda\" if torch.cuda.is_available() else \"cpu\")\n",
        "\n",
        "optimizer = optim.Adam(model.parameters(), lr=0.001)\n",
        "\n",
        "best_test_acc = -1\n",
        "\n",
        "for epoch in range(1, 3+1):\n",
        " \n",
        "    tr_loss, tr_acc = train(model, device, train_iter, optimizer) \n",
        "    print('Train Epoch: {} \\t Loss: {} \\t Accuracy: {}%'.format(epoch, tr_loss, tr_acc))\n",
        "    \n",
        "    val_loss, val_acc = evaluate(model, device, validation_iter)\n",
        "    print('Valid Epoch: {} \\t Loss: {} \\t Accuracy: {}%'.format(epoch, val_loss, val_acc))\n",
        "        \n",
        "    if val_acc > best_test_acc:\n",
        "        best_test_acc = val_acc\n",
        "        \n",
        "        print(\"model saves at {} accuracy\".format(best_test_acc))\n",
        "        torch.save(model.state_dict(), \"TextCNN_Best_Validation\")\n",
        "    \n",
        "    print('-----------------------------------------------------------------------------')"
      ]
    }
  ],
  "metadata": {
    "kernelspec": {
      "display_name": "Python 3",
      "language": "python",
      "name": "python3"
    },
    "language_info": {
      "codemirror_mode": {
        "name": "ipython",
        "version": 3
      },
      "file_extension": ".py",
      "mimetype": "text/x-python",
      "name": "python",
      "nbconvert_exporter": "python",
      "pygments_lexer": "ipython3",
      "version": "3.6.4"
    },
    "colab": {
      "name": "petitions_classification.ipynb",
      "provenance": [],
      "include_colab_link": true
    }
  },
  "nbformat": 4,
  "nbformat_minor": 0
}