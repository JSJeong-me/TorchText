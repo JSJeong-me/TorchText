{
  "cells": [
    {
      "cell_type": "markdown",
      "metadata": {
        "id": "view-in-github",
        "colab_type": "text"
      },
      "source": [
        "<a href=\"https://colab.research.google.com/github/JSJeong-me/TorchText/blob/main/han.ipynb\" target=\"_parent\"><img src=\"https://colab.research.google.com/assets/colab-badge.svg\" alt=\"Open In Colab\"/></a>"
      ]
    },
    {
      "cell_type": "code",
      "source": [
        "#!pip install -r requirements.txt"
      ],
      "metadata": {
        "id": "j-xERacFRi7l"
      },
      "execution_count": 1,
      "outputs": []
    },
    {
      "cell_type": "code",
      "source": [
        "import pandas as pd\n",
        "import numpy as np\n",
        "import requests\n",
        "from bs4 import BeautifulSoup \n",
        "import time"
      ],
      "metadata": {
        "id": "KvaeSRds5eRR"
      },
      "execution_count": 2,
      "outputs": []
    },
    {
      "cell_type": "code",
      "source": [
        "df = pd.read_excel('./주관식.xlsx')"
      ],
      "metadata": {
        "id": "uaN6zVaX5iQt"
      },
      "execution_count": 3,
      "outputs": []
    },
    {
      "cell_type": "code",
      "source": [
        "df.columns"
      ],
      "metadata": {
        "id": "eoM5DGar5x-c",
        "outputId": "2ac34d2d-ee78-4995-f27e-7a6255b229e4",
        "colab": {
          "base_uri": "https://localhost:8080/"
        }
      },
      "execution_count": 4,
      "outputs": [
        {
          "output_type": "execute_result",
          "data": {
            "text/plain": [
              "Index(['1-5. 학교에서 배웠던 과목명을 기억나는 대로 모두 적어주세요.', 'Unnamed: 1', 'Unnamed: 2',\n",
              "       '2-2. 학교 밖에서는 언제 처음 배웠나요? (예-초등학교 3학년)',\n",
              "       '2-3. 학교 밖에서 배운 기간은 어느 정도 되나요? (예-1년 2개월)',\n",
              "       '2-4. 학교 밖에서의 가장 최근 수업은 1주일에 몇 시간 정도 배웠나요? (예-2시간)', '학교밖',\n",
              "       '5-1. ‘예’라고 응답한 경우, 공통점은 무엇일까요?', '5-2. ‘예’라고 응답한 경우, 차이점은 무엇일까요?',\n",
              "       '6-1. ‘예’라고 응답한 경우, 어떤 제품이 있을까요?'],\n",
              "      dtype='object')"
            ]
          },
          "metadata": {},
          "execution_count": 4
        }
      ]
    },
    {
      "cell_type": "code",
      "source": [
        "df.shape"
      ],
      "metadata": {
        "id": "oVSd42cB55-2",
        "outputId": "0b2090f0-5b0d-43d5-8f8d-cdded8108c32",
        "colab": {
          "base_uri": "https://localhost:8080/"
        }
      },
      "execution_count": 5,
      "outputs": [
        {
          "output_type": "execute_result",
          "data": {
            "text/plain": [
              "(6803, 10)"
            ]
          },
          "metadata": {},
          "execution_count": 5
        }
      ]
    },
    {
      "cell_type": "code",
      "source": [
        "df.head(5)"
      ],
      "metadata": {
        "id": "2l810R1i6kIL",
        "outputId": "abbaa73f-dfca-4f7e-a812-eacc153275a0",
        "colab": {
          "base_uri": "https://localhost:8080/",
          "height": 684
        }
      },
      "execution_count": 6,
      "outputs": [
        {
          "output_type": "execute_result",
          "data": {
            "text/html": [
              "\n",
              "  <div id=\"df-1bca2dbe-945c-4f40-990b-d4133751c363\">\n",
              "    <div class=\"colab-df-container\">\n",
              "      <div>\n",
              "<style scoped>\n",
              "    .dataframe tbody tr th:only-of-type {\n",
              "        vertical-align: middle;\n",
              "    }\n",
              "\n",
              "    .dataframe tbody tr th {\n",
              "        vertical-align: top;\n",
              "    }\n",
              "\n",
              "    .dataframe thead th {\n",
              "        text-align: right;\n",
              "    }\n",
              "</style>\n",
              "<table border=\"1\" class=\"dataframe\">\n",
              "  <thead>\n",
              "    <tr style=\"text-align: right;\">\n",
              "      <th></th>\n",
              "      <th>1-5. 학교에서 배웠던 과목명을 기억나는 대로 모두 적어주세요.</th>\n",
              "      <th>Unnamed: 1</th>\n",
              "      <th>Unnamed: 2</th>\n",
              "      <th>2-2. 학교 밖에서는 언제 처음 배웠나요? (예-초등학교 3학년)</th>\n",
              "      <th>2-3. 학교 밖에서 배운 기간은 어느 정도 되나요? (예-1년 2개월)</th>\n",
              "      <th>2-4. 학교 밖에서의 가장 최근 수업은 1주일에 몇 시간 정도 배웠나요? (예-2시간)</th>\n",
              "      <th>학교밖</th>\n",
              "      <th>5-1. ‘예’라고 응답한 경우, 공통점은 무엇일까요?</th>\n",
              "      <th>5-2. ‘예’라고 응답한 경우, 차이점은 무엇일까요?</th>\n",
              "      <th>6-1. ‘예’라고 응답한 경우, 어떤 제품이 있을까요?</th>\n",
              "    </tr>\n",
              "  </thead>\n",
              "  <tbody>\n",
              "    <tr>\n",
              "      <th>0</th>\n",
              "      <td>Open-Ended Response</td>\n",
              "      <td>⑩ 기타</td>\n",
              "      <td>⑨ 기타</td>\n",
              "      <td>Open-Ended Response</td>\n",
              "      <td>Open-Ended Response</td>\n",
              "      <td>Open-Ended Response</td>\n",
              "      <td>⑨ 기타</td>\n",
              "      <td>Open-Ended Response</td>\n",
              "      <td>Open-Ended Response</td>\n",
              "      <td>Open-Ended Response</td>\n",
              "    </tr>\n",
              "    <tr>\n",
              "      <th>1</th>\n",
              "      <td>엔트리</td>\n",
              "      <td>NaN</td>\n",
              "      <td>NaN</td>\n",
              "      <td>NaN</td>\n",
              "      <td>NaN</td>\n",
              "      <td>NaN</td>\n",
              "      <td>NaN</td>\n",
              "      <td>어떤일을 해결하기위해선 학습이 필요하다</td>\n",
              "      <td>인간은 본능적으로 행동할수있고 인공지능은 정해진대로만 해야한다</td>\n",
              "      <td>휴대폰 tv</td>\n",
              "    </tr>\n",
              "    <tr>\n",
              "      <th>2</th>\n",
              "      <td>정보</td>\n",
              "      <td>NaN</td>\n",
              "      <td>NaN</td>\n",
              "      <td>NaN</td>\n",
              "      <td>NaN</td>\n",
              "      <td>NaN</td>\n",
              "      <td>NaN</td>\n",
              "      <td>인간이 로봇에게 인간처럼 행동해라고 입력했으니 거의 대부분이 인간과 공통점일것이다</td>\n",
              "      <td>창의성과 상상의 차이</td>\n",
              "      <td>감정을 표현하는 강아지 로봇</td>\n",
              "    </tr>\n",
              "    <tr>\n",
              "      <th>3</th>\n",
              "      <td>정보</td>\n",
              "      <td>NaN</td>\n",
              "      <td>NaN</td>\n",
              "      <td>초등학교 컴퓨터실</td>\n",
              "      <td>1년</td>\n",
              "      <td>최근은 없다 (학교수업빼고)</td>\n",
              "      <td>NaN</td>\n",
              "      <td>움직인다, 인간이 만들어낸것이다</td>\n",
              "      <td>내가직접하는지 안하는지, 기분을 느낄수 있다</td>\n",
              "      <td>서빙</td>\n",
              "    </tr>\n",
              "    <tr>\n",
              "      <th>4</th>\n",
              "      <td>엔트리</td>\n",
              "      <td>NaN</td>\n",
              "      <td>NaN</td>\n",
              "      <td>NaN</td>\n",
              "      <td>NaN</td>\n",
              "      <td>NaN</td>\n",
              "      <td>NaN</td>\n",
              "      <td>생각할수있다</td>\n",
              "      <td>감정의 유무</td>\n",
              "      <td>유튜브,시계등등</td>\n",
              "    </tr>\n",
              "  </tbody>\n",
              "</table>\n",
              "</div>\n",
              "      <button class=\"colab-df-convert\" onclick=\"convertToInteractive('df-1bca2dbe-945c-4f40-990b-d4133751c363')\"\n",
              "              title=\"Convert this dataframe to an interactive table.\"\n",
              "              style=\"display:none;\">\n",
              "        \n",
              "  <svg xmlns=\"http://www.w3.org/2000/svg\" height=\"24px\"viewBox=\"0 0 24 24\"\n",
              "       width=\"24px\">\n",
              "    <path d=\"M0 0h24v24H0V0z\" fill=\"none\"/>\n",
              "    <path d=\"M18.56 5.44l.94 2.06.94-2.06 2.06-.94-2.06-.94-.94-2.06-.94 2.06-2.06.94zm-11 1L8.5 8.5l.94-2.06 2.06-.94-2.06-.94L8.5 2.5l-.94 2.06-2.06.94zm10 10l.94 2.06.94-2.06 2.06-.94-2.06-.94-.94-2.06-.94 2.06-2.06.94z\"/><path d=\"M17.41 7.96l-1.37-1.37c-.4-.4-.92-.59-1.43-.59-.52 0-1.04.2-1.43.59L10.3 9.45l-7.72 7.72c-.78.78-.78 2.05 0 2.83L4 21.41c.39.39.9.59 1.41.59.51 0 1.02-.2 1.41-.59l7.78-7.78 2.81-2.81c.8-.78.8-2.07 0-2.86zM5.41 20L4 18.59l7.72-7.72 1.47 1.35L5.41 20z\"/>\n",
              "  </svg>\n",
              "      </button>\n",
              "      \n",
              "  <style>\n",
              "    .colab-df-container {\n",
              "      display:flex;\n",
              "      flex-wrap:wrap;\n",
              "      gap: 12px;\n",
              "    }\n",
              "\n",
              "    .colab-df-convert {\n",
              "      background-color: #E8F0FE;\n",
              "      border: none;\n",
              "      border-radius: 50%;\n",
              "      cursor: pointer;\n",
              "      display: none;\n",
              "      fill: #1967D2;\n",
              "      height: 32px;\n",
              "      padding: 0 0 0 0;\n",
              "      width: 32px;\n",
              "    }\n",
              "\n",
              "    .colab-df-convert:hover {\n",
              "      background-color: #E2EBFA;\n",
              "      box-shadow: 0px 1px 2px rgba(60, 64, 67, 0.3), 0px 1px 3px 1px rgba(60, 64, 67, 0.15);\n",
              "      fill: #174EA6;\n",
              "    }\n",
              "\n",
              "    [theme=dark] .colab-df-convert {\n",
              "      background-color: #3B4455;\n",
              "      fill: #D2E3FC;\n",
              "    }\n",
              "\n",
              "    [theme=dark] .colab-df-convert:hover {\n",
              "      background-color: #434B5C;\n",
              "      box-shadow: 0px 1px 3px 1px rgba(0, 0, 0, 0.15);\n",
              "      filter: drop-shadow(0px 1px 2px rgba(0, 0, 0, 0.3));\n",
              "      fill: #FFFFFF;\n",
              "    }\n",
              "  </style>\n",
              "\n",
              "      <script>\n",
              "        const buttonEl =\n",
              "          document.querySelector('#df-1bca2dbe-945c-4f40-990b-d4133751c363 button.colab-df-convert');\n",
              "        buttonEl.style.display =\n",
              "          google.colab.kernel.accessAllowed ? 'block' : 'none';\n",
              "\n",
              "        async function convertToInteractive(key) {\n",
              "          const element = document.querySelector('#df-1bca2dbe-945c-4f40-990b-d4133751c363');\n",
              "          const dataTable =\n",
              "            await google.colab.kernel.invokeFunction('convertToInteractive',\n",
              "                                                     [key], {});\n",
              "          if (!dataTable) return;\n",
              "\n",
              "          const docLinkHtml = 'Like what you see? Visit the ' +\n",
              "            '<a target=\"_blank\" href=https://colab.research.google.com/notebooks/data_table.ipynb>data table notebook</a>'\n",
              "            + ' to learn more about interactive tables.';\n",
              "          element.innerHTML = '';\n",
              "          dataTable['output_type'] = 'display_data';\n",
              "          await google.colab.output.renderOutput(dataTable, element);\n",
              "          const docLink = document.createElement('div');\n",
              "          docLink.innerHTML = docLinkHtml;\n",
              "          element.appendChild(docLink);\n",
              "        }\n",
              "      </script>\n",
              "    </div>\n",
              "  </div>\n",
              "  "
            ],
            "text/plain": [
              "  1-5. 학교에서 배웠던 과목명을 기억나는 대로 모두 적어주세요.  ... 6-1. ‘예’라고 응답한 경우, 어떤 제품이 있을까요?\n",
              "0                  Open-Ended Response  ...             Open-Ended Response\n",
              "1                                 엔트리   ...                          휴대폰 tv\n",
              "2                                   정보  ...                 감정을 표현하는 강아지 로봇\n",
              "3                                   정보  ...                              서빙\n",
              "4                                  엔트리  ...                        유튜브,시계등등\n",
              "\n",
              "[5 rows x 10 columns]"
            ]
          },
          "metadata": {},
          "execution_count": 6
        }
      ]
    },
    {
      "cell_type": "code",
      "source": [
        "import re\n",
        "\n",
        "def remove_white_space(text):\n",
        "    text = re.sub(r'[\\t\\r\\n\\f\\v]', ' ', str(text))\n",
        "    return text\n",
        "\n",
        "def remove_special_char(text):\n",
        "    text = re.sub('[^ ㄱ-ㅣ가-힣 0-9]+', ' ', str(text))\n",
        "    return text\n",
        "\n",
        "df['1-5. 학교에서 배웠던 과목명을 기억나는 대로 모두 적어주세요.'] = df['1-5. 학교에서 배웠던 과목명을 기억나는 대로 모두 적어주세요.'].apply(remove_white_space)\n",
        "df['1-5. 학교에서 배웠던 과목명을 기억나는 대로 모두 적어주세요.'] = df['1-5. 학교에서 배웠던 과목명을 기억나는 대로 모두 적어주세요.'].apply(remove_special_char)\n",
        "\n",
        "df['2-2. 학교 밖에서는 언제 처음 배웠나요? (예-초등학교 3학년)'] = df['2-2. 학교 밖에서는 언제 처음 배웠나요? (예-초등학교 3학년)'].apply(remove_white_space)\n",
        "df['2-2. 학교 밖에서는 언제 처음 배웠나요? (예-초등학교 3학년)'] = df['2-2. 학교 밖에서는 언제 처음 배웠나요? (예-초등학교 3학년)'].apply(remove_special_char)\n",
        "\n",
        "df['2-3. 학교 밖에서 배운 기간은 어느 정도 되나요? (예-1년 2개월)'] = df['2-3. 학교 밖에서 배운 기간은 어느 정도 되나요? (예-1년 2개월)'].apply(remove_white_space)\n",
        "df['2-3. 학교 밖에서 배운 기간은 어느 정도 되나요? (예-1년 2개월)'] = df['2-3. 학교 밖에서 배운 기간은 어느 정도 되나요? (예-1년 2개월)'].apply(remove_special_char)\n",
        " \n",
        "df['2-4. 학교 밖에서의 가장 최근 수업은 1주일에 몇 시간 정도 배웠나요? (예-2시간)'] = df['2-4. 학교 밖에서의 가장 최근 수업은 1주일에 몇 시간 정도 배웠나요? (예-2시간)'].apply(remove_white_space)\n",
        "df['2-4. 학교 밖에서의 가장 최근 수업은 1주일에 몇 시간 정도 배웠나요? (예-2시간)'] = df['2-4. 학교 밖에서의 가장 최근 수업은 1주일에 몇 시간 정도 배웠나요? (예-2시간)'].apply(remove_special_char)\n",
        "\n",
        "df['학교밖'] = df['학교밖'].apply(remove_white_space)\n",
        "df['학교밖'] = df['학교밖'].apply(remove_special_char)\n",
        "\n",
        "df['5-1. ‘예’라고 응답한 경우, 공통점은 무엇일까요?'] = df['5-1. ‘예’라고 응답한 경우, 공통점은 무엇일까요?'].apply(remove_white_space)\n",
        "df['5-1. ‘예’라고 응답한 경우, 공통점은 무엇일까요?'] = df['5-1. ‘예’라고 응답한 경우, 공통점은 무엇일까요?'].apply(remove_special_char)\n",
        " \n",
        "df['5-2. ‘예’라고 응답한 경우, 차이점은 무엇일까요?'] = df['5-2. ‘예’라고 응답한 경우, 차이점은 무엇일까요?'].apply(remove_white_space)\n",
        "df['5-2. ‘예’라고 응답한 경우, 차이점은 무엇일까요?'] = df['5-2. ‘예’라고 응답한 경우, 차이점은 무엇일까요?'].apply(remove_special_char)\n",
        " \n",
        "df['6-1. ‘예’라고 응답한 경우, 어떤 제품이 있을까요?'] = df['6-1. ‘예’라고 응답한 경우, 어떤 제품이 있을까요?'].apply(remove_white_space)\n",
        "df['6-1. ‘예’라고 응답한 경우, 어떤 제품이 있을까요?'] = df['6-1. ‘예’라고 응답한 경우, 어떤 제품이 있을까요?'].apply(remove_special_char)\n"
      ],
      "metadata": {
        "id": "aHDvZ-LK6J-Q"
      },
      "execution_count": 7,
      "outputs": []
    },
    {
      "cell_type": "code",
      "source": [
        ""
      ],
      "metadata": {
        "id": "1KRgWtFM8S1B"
      },
      "execution_count": 7,
      "outputs": []
    },
    {
      "cell_type": "code",
      "source": [
        "#df.to_csv('text.csv', index = False, encoding = 'utf-8-sig')"
      ],
      "metadata": {
        "id": "J0XiGh798KaD"
      },
      "execution_count": 8,
      "outputs": []
    },
    {
      "cell_type": "code",
      "source": [
        ""
      ],
      "metadata": {
        "id": "sv7zV0G1_Ccp"
      },
      "execution_count": 8,
      "outputs": []
    },
    {
      "cell_type": "markdown",
      "metadata": {
        "id": "3MnsYfFqRQ1k"
      },
      "source": [
        "[크롤링 데이터 확인]"
      ]
    },
    {
      "cell_type": "code",
      "execution_count": 9,
      "metadata": {
        "collapsed": true,
        "id": "sg_Fbac2RQ1k",
        "outputId": "0ae8aa01-af8f-4d9d-9d57-bcba55b441c4",
        "colab": {
          "base_uri": "https://localhost:8080/",
          "height": 649
        }
      },
      "outputs": [
        {
          "output_type": "execute_result",
          "data": {
            "text/html": [
              "\n",
              "  <div id=\"df-c4f8f085-7a8c-46a2-b26a-d00bf8fe85d2\">\n",
              "    <div class=\"colab-df-container\">\n",
              "      <div>\n",
              "<style scoped>\n",
              "    .dataframe tbody tr th:only-of-type {\n",
              "        vertical-align: middle;\n",
              "    }\n",
              "\n",
              "    .dataframe tbody tr th {\n",
              "        vertical-align: top;\n",
              "    }\n",
              "\n",
              "    .dataframe thead th {\n",
              "        text-align: right;\n",
              "    }\n",
              "</style>\n",
              "<table border=\"1\" class=\"dataframe\">\n",
              "  <thead>\n",
              "    <tr style=\"text-align: right;\">\n",
              "      <th></th>\n",
              "      <th>1-5. 학교에서 배웠던 과목명을 기억나는 대로 모두 적어주세요.</th>\n",
              "      <th>Unnamed: 1</th>\n",
              "      <th>Unnamed: 2</th>\n",
              "      <th>2-2. 학교 밖에서는 언제 처음 배웠나요? (예-초등학교 3학년)</th>\n",
              "      <th>2-3. 학교 밖에서 배운 기간은 어느 정도 되나요? (예-1년 2개월)</th>\n",
              "      <th>2-4. 학교 밖에서의 가장 최근 수업은 1주일에 몇 시간 정도 배웠나요? (예-2시간)</th>\n",
              "      <th>학교밖</th>\n",
              "      <th>5-1. ‘예’라고 응답한 경우, 공통점은 무엇일까요?</th>\n",
              "      <th>5-2. ‘예’라고 응답한 경우, 차이점은 무엇일까요?</th>\n",
              "      <th>6-1. ‘예’라고 응답한 경우, 어떤 제품이 있을까요?</th>\n",
              "    </tr>\n",
              "  </thead>\n",
              "  <tbody>\n",
              "    <tr>\n",
              "      <th>0</th>\n",
              "      <td></td>\n",
              "      <td>⑩ 기타</td>\n",
              "      <td>⑨ 기타</td>\n",
              "      <td></td>\n",
              "      <td></td>\n",
              "      <td></td>\n",
              "      <td>기타</td>\n",
              "      <td></td>\n",
              "      <td></td>\n",
              "      <td></td>\n",
              "    </tr>\n",
              "    <tr>\n",
              "      <th>1</th>\n",
              "      <td>엔트리</td>\n",
              "      <td>NaN</td>\n",
              "      <td>NaN</td>\n",
              "      <td></td>\n",
              "      <td></td>\n",
              "      <td></td>\n",
              "      <td></td>\n",
              "      <td>어떤일을 해결하기위해선 학습이 필요하다</td>\n",
              "      <td>인간은 본능적으로 행동할수있고 인공지능은 정해진대로만 해야한다</td>\n",
              "      <td>휴대폰</td>\n",
              "    </tr>\n",
              "    <tr>\n",
              "      <th>2</th>\n",
              "      <td>정보</td>\n",
              "      <td>NaN</td>\n",
              "      <td>NaN</td>\n",
              "      <td></td>\n",
              "      <td></td>\n",
              "      <td></td>\n",
              "      <td></td>\n",
              "      <td>인간이 로봇에게 인간처럼 행동해라고 입력했으니 거의 대부분이 인간과 공통점일것이다</td>\n",
              "      <td>창의성과 상상의 차이</td>\n",
              "      <td>감정을 표현하는 강아지 로봇</td>\n",
              "    </tr>\n",
              "    <tr>\n",
              "      <th>3</th>\n",
              "      <td>정보</td>\n",
              "      <td>NaN</td>\n",
              "      <td>NaN</td>\n",
              "      <td>초등학교 컴퓨터실</td>\n",
              "      <td>1년</td>\n",
              "      <td>최근은 없다  학교수업빼고</td>\n",
              "      <td></td>\n",
              "      <td>움직인다  인간이 만들어낸것이다</td>\n",
              "      <td>내가직접하는지 안하는지  기분을 느낄수 있다</td>\n",
              "      <td>서빙</td>\n",
              "    </tr>\n",
              "    <tr>\n",
              "      <th>4</th>\n",
              "      <td>엔트리</td>\n",
              "      <td>NaN</td>\n",
              "      <td>NaN</td>\n",
              "      <td></td>\n",
              "      <td></td>\n",
              "      <td></td>\n",
              "      <td></td>\n",
              "      <td>생각할수있다</td>\n",
              "      <td>감정의 유무</td>\n",
              "      <td>유튜브 시계등등</td>\n",
              "    </tr>\n",
              "  </tbody>\n",
              "</table>\n",
              "</div>\n",
              "      <button class=\"colab-df-convert\" onclick=\"convertToInteractive('df-c4f8f085-7a8c-46a2-b26a-d00bf8fe85d2')\"\n",
              "              title=\"Convert this dataframe to an interactive table.\"\n",
              "              style=\"display:none;\">\n",
              "        \n",
              "  <svg xmlns=\"http://www.w3.org/2000/svg\" height=\"24px\"viewBox=\"0 0 24 24\"\n",
              "       width=\"24px\">\n",
              "    <path d=\"M0 0h24v24H0V0z\" fill=\"none\"/>\n",
              "    <path d=\"M18.56 5.44l.94 2.06.94-2.06 2.06-.94-2.06-.94-.94-2.06-.94 2.06-2.06.94zm-11 1L8.5 8.5l.94-2.06 2.06-.94-2.06-.94L8.5 2.5l-.94 2.06-2.06.94zm10 10l.94 2.06.94-2.06 2.06-.94-2.06-.94-.94-2.06-.94 2.06-2.06.94z\"/><path d=\"M17.41 7.96l-1.37-1.37c-.4-.4-.92-.59-1.43-.59-.52 0-1.04.2-1.43.59L10.3 9.45l-7.72 7.72c-.78.78-.78 2.05 0 2.83L4 21.41c.39.39.9.59 1.41.59.51 0 1.02-.2 1.41-.59l7.78-7.78 2.81-2.81c.8-.78.8-2.07 0-2.86zM5.41 20L4 18.59l7.72-7.72 1.47 1.35L5.41 20z\"/>\n",
              "  </svg>\n",
              "      </button>\n",
              "      \n",
              "  <style>\n",
              "    .colab-df-container {\n",
              "      display:flex;\n",
              "      flex-wrap:wrap;\n",
              "      gap: 12px;\n",
              "    }\n",
              "\n",
              "    .colab-df-convert {\n",
              "      background-color: #E8F0FE;\n",
              "      border: none;\n",
              "      border-radius: 50%;\n",
              "      cursor: pointer;\n",
              "      display: none;\n",
              "      fill: #1967D2;\n",
              "      height: 32px;\n",
              "      padding: 0 0 0 0;\n",
              "      width: 32px;\n",
              "    }\n",
              "\n",
              "    .colab-df-convert:hover {\n",
              "      background-color: #E2EBFA;\n",
              "      box-shadow: 0px 1px 2px rgba(60, 64, 67, 0.3), 0px 1px 3px 1px rgba(60, 64, 67, 0.15);\n",
              "      fill: #174EA6;\n",
              "    }\n",
              "\n",
              "    [theme=dark] .colab-df-convert {\n",
              "      background-color: #3B4455;\n",
              "      fill: #D2E3FC;\n",
              "    }\n",
              "\n",
              "    [theme=dark] .colab-df-convert:hover {\n",
              "      background-color: #434B5C;\n",
              "      box-shadow: 0px 1px 3px 1px rgba(0, 0, 0, 0.15);\n",
              "      filter: drop-shadow(0px 1px 2px rgba(0, 0, 0, 0.3));\n",
              "      fill: #FFFFFF;\n",
              "    }\n",
              "  </style>\n",
              "\n",
              "      <script>\n",
              "        const buttonEl =\n",
              "          document.querySelector('#df-c4f8f085-7a8c-46a2-b26a-d00bf8fe85d2 button.colab-df-convert');\n",
              "        buttonEl.style.display =\n",
              "          google.colab.kernel.accessAllowed ? 'block' : 'none';\n",
              "\n",
              "        async function convertToInteractive(key) {\n",
              "          const element = document.querySelector('#df-c4f8f085-7a8c-46a2-b26a-d00bf8fe85d2');\n",
              "          const dataTable =\n",
              "            await google.colab.kernel.invokeFunction('convertToInteractive',\n",
              "                                                     [key], {});\n",
              "          if (!dataTable) return;\n",
              "\n",
              "          const docLinkHtml = 'Like what you see? Visit the ' +\n",
              "            '<a target=\"_blank\" href=https://colab.research.google.com/notebooks/data_table.ipynb>data table notebook</a>'\n",
              "            + ' to learn more about interactive tables.';\n",
              "          element.innerHTML = '';\n",
              "          dataTable['output_type'] = 'display_data';\n",
              "          await google.colab.output.renderOutput(dataTable, element);\n",
              "          const docLink = document.createElement('div');\n",
              "          docLink.innerHTML = docLinkHtml;\n",
              "          element.appendChild(docLink);\n",
              "        }\n",
              "      </script>\n",
              "    </div>\n",
              "  </div>\n",
              "  "
            ],
            "text/plain": [
              "  1-5. 학교에서 배웠던 과목명을 기억나는 대로 모두 적어주세요.  ... 6-1. ‘예’라고 응답한 경우, 어떤 제품이 있을까요?\n",
              "0                                       ...                                \n",
              "1                                 엔트리   ...                           휴대폰  \n",
              "2                                   정보  ...                 감정을 표현하는 강아지 로봇\n",
              "3                                   정보  ...                              서빙\n",
              "4                                  엔트리  ...                        유튜브 시계등등\n",
              "\n",
              "[5 rows x 10 columns]"
            ]
          },
          "metadata": {},
          "execution_count": 9
        }
      ],
      "source": [
        "df.head()"
      ]
    },
    {
      "cell_type": "markdown",
      "metadata": {
        "id": "LPmj7VWkRQ1l"
      },
      "source": [
        "[데이터 엑셀로 저장]"
      ]
    },
    {
      "cell_type": "markdown",
      "metadata": {
        "id": "IblBCJ85RQ1l"
      },
      "source": [
        "# 2.2 데이터 전처리"
      ]
    },
    {
      "cell_type": "markdown",
      "metadata": {
        "id": "dC7YN9jRRQ1p"
      },
      "source": [
        "# 2.3 토크나이징 및 변수 생성"
      ]
    },
    {
      "cell_type": "markdown",
      "metadata": {
        "id": "YPmVQ8GrRQ1p"
      },
      "source": [
        "[토크나이징]"
      ]
    },
    {
      "cell_type": "code",
      "source": [
        "!pip install konlpy "
      ],
      "metadata": {
        "id": "SkSXfLg5jf9U",
        "outputId": "11d3b979-e8f5-4094-f33b-482f681fcbd5",
        "colab": {
          "base_uri": "https://localhost:8080/"
        }
      },
      "execution_count": 10,
      "outputs": [
        {
          "output_type": "stream",
          "name": "stdout",
          "text": [
            "Requirement already satisfied: konlpy in /usr/local/lib/python3.7/dist-packages (0.6.0)\n",
            "Requirement already satisfied: lxml>=4.1.0 in /usr/local/lib/python3.7/dist-packages (from konlpy) (4.2.6)\n",
            "Requirement already satisfied: numpy>=1.6 in /usr/local/lib/python3.7/dist-packages (from konlpy) (1.19.5)\n",
            "Requirement already satisfied: JPype1>=0.7.0 in /usr/local/lib/python3.7/dist-packages (from konlpy) (1.3.0)\n",
            "Requirement already satisfied: typing-extensions in /usr/local/lib/python3.7/dist-packages (from JPype1>=0.7.0->konlpy) (3.10.0.2)\n"
          ]
        }
      ]
    },
    {
      "cell_type": "code",
      "execution_count": 11,
      "metadata": {
        "collapsed": true,
        "id": "LRdzoWR2RQ1q"
      },
      "outputs": [],
      "source": [
        "from konlpy.tag import Okt\n",
        "\n",
        "okt = Okt()\n",
        "\n",
        "df['1-5_token'] = df['1-5. 학교에서 배웠던 과목명을 기억나는 대로 모두 적어주세요.'].apply(okt.morphs)\n",
        "\n",
        "df['1-5_nouns'] = df['1-5. 학교에서 배웠던 과목명을 기억나는 대로 모두 적어주세요.'].apply(okt.nouns)"
      ]
    },
    {
      "cell_type": "code",
      "source": [
        "df['2-2_token'] = df['2-2. 학교 밖에서는 언제 처음 배웠나요? (예-초등학교 3학년)'].apply(okt.morphs)\n",
        "df['2-2_nouns'] = df['2-2. 학교 밖에서는 언제 처음 배웠나요? (예-초등학교 3학년)'].apply(okt.nouns)"
      ],
      "metadata": {
        "id": "87Bi6E9Apcj-"
      },
      "execution_count": 12,
      "outputs": []
    },
    {
      "cell_type": "code",
      "source": [
        "df['2-3_token'] = df['2-3. 학교 밖에서 배운 기간은 어느 정도 되나요? (예-1년 2개월)'].apply(okt.morphs)\n",
        "df['2-3_nouns'] = df['2-3. 학교 밖에서 배운 기간은 어느 정도 되나요? (예-1년 2개월)'].apply(okt.nouns)"
      ],
      "metadata": {
        "id": "kCUmNMMIp_28"
      },
      "execution_count": 13,
      "outputs": []
    },
    {
      "cell_type": "code",
      "source": [
        "df['2-4_token'] = df['2-4. 학교 밖에서의 가장 최근 수업은 1주일에 몇 시간 정도 배웠나요? (예-2시간)'].apply(okt.morphs)\n",
        "df['2-4_nouns'] = df['2-4. 학교 밖에서의 가장 최근 수업은 1주일에 몇 시간 정도 배웠나요? (예-2시간)'].apply(okt.nouns)"
      ],
      "metadata": {
        "id": "fvgqIN2QqVFl"
      },
      "execution_count": 14,
      "outputs": []
    },
    {
      "cell_type": "code",
      "source": [
        "df['학교밖_token'] = df['학교밖'].apply(okt.morphs)\n",
        "df['학교밖_nouns'] = df['학교밖'].apply(okt.nouns)"
      ],
      "metadata": {
        "id": "QjupCeldqtWk"
      },
      "execution_count": 15,
      "outputs": []
    },
    {
      "cell_type": "code",
      "source": [
        "df['5-1_token'] = df['5-1. ‘예’라고 응답한 경우, 공통점은 무엇일까요?'].apply(okt.morphs)\n",
        "df['5-1_nouns'] = df['5-1. ‘예’라고 응답한 경우, 공통점은 무엇일까요?'].apply(okt.nouns)"
      ],
      "metadata": {
        "id": "_ozkS8PmrBgh"
      },
      "execution_count": 16,
      "outputs": []
    },
    {
      "cell_type": "code",
      "source": [
        "df['5-2_token'] = df['5-2. ‘예’라고 응답한 경우, 차이점은 무엇일까요?'].apply(okt.morphs)\n",
        "df['5-2_nouns'] = df['5-2. ‘예’라고 응답한 경우, 차이점은 무엇일까요?'].apply(okt.nouns)"
      ],
      "metadata": {
        "id": "4jedKGjkrUKP"
      },
      "execution_count": 17,
      "outputs": []
    },
    {
      "cell_type": "code",
      "source": [
        "df['6-1_token'] = df['6-1. ‘예’라고 응답한 경우, 어떤 제품이 있을까요?'].apply(okt.morphs)\n",
        "df['6-1_nouns'] = df['6-1. ‘예’라고 응답한 경우, 어떤 제품이 있을까요?'].apply(okt.nouns)"
      ],
      "metadata": {
        "id": "O-N_51Xmrph-"
      },
      "execution_count": 18,
      "outputs": []
    },
    {
      "cell_type": "code",
      "source": [
        "df.columns"
      ],
      "metadata": {
        "id": "u09EaPWlr6aX",
        "outputId": "f336d3e5-8c48-499d-d4a8-f24c0cb26735",
        "colab": {
          "base_uri": "https://localhost:8080/"
        }
      },
      "execution_count": 19,
      "outputs": [
        {
          "output_type": "execute_result",
          "data": {
            "text/plain": [
              "Index(['1-5. 학교에서 배웠던 과목명을 기억나는 대로 모두 적어주세요.', 'Unnamed: 1', 'Unnamed: 2',\n",
              "       '2-2. 학교 밖에서는 언제 처음 배웠나요? (예-초등학교 3학년)',\n",
              "       '2-3. 학교 밖에서 배운 기간은 어느 정도 되나요? (예-1년 2개월)',\n",
              "       '2-4. 학교 밖에서의 가장 최근 수업은 1주일에 몇 시간 정도 배웠나요? (예-2시간)', '학교밖',\n",
              "       '5-1. ‘예’라고 응답한 경우, 공통점은 무엇일까요?', '5-2. ‘예’라고 응답한 경우, 차이점은 무엇일까요?',\n",
              "       '6-1. ‘예’라고 응답한 경우, 어떤 제품이 있을까요?', '1-5_token', '1-5_nouns',\n",
              "       '2-2_token', '2-2_nouns', '2-3_token', '2-3_nouns', '2-4_token',\n",
              "       '2-4_nouns', '학교밖_token', '학교밖_nouns', '5-1_token', '5-1_nouns',\n",
              "       '5-2_token', '5-2_nouns', '6-1_token', '6-1_nouns'],\n",
              "      dtype='object')"
            ]
          },
          "metadata": {},
          "execution_count": 19
        }
      ]
    },
    {
      "cell_type": "code",
      "source": [
        "df.drop(['1-5. 학교에서 배웠던 과목명을 기억나는 대로 모두 적어주세요.', 'Unnamed: 1', 'Unnamed: 2', \\\n",
        "       '2-2. 학교 밖에서는 언제 처음 배웠나요? (예-초등학교 3학년)', \\\n",
        "       '2-3. 학교 밖에서 배운 기간은 어느 정도 되나요? (예-1년 2개월)', \\\n",
        "       '2-4. 학교 밖에서의 가장 최근 수업은 1주일에 몇 시간 정도 배웠나요? (예-2시간)', '학교밖', \\\n",
        "       '5-1. ‘예’라고 응답한 경우, 공통점은 무엇일까요?', '5-2. ‘예’라고 응답한 경우, 차이점은 무엇일까요?', \\\n",
        "       '6-1. ‘예’라고 응답한 경우, 어떤 제품이 있을까요?', '1-5_token', '2-2_token', '2-3_token', '2-4_token', '학교밖_token', '5-1_token', '5-2_token', '6-1_token' ] , axis=1, inplace=True)"
      ],
      "metadata": {
        "id": "PSWkjU-Or-57"
      },
      "execution_count": 20,
      "outputs": []
    },
    {
      "cell_type": "code",
      "source": [
        "df.columns"
      ],
      "metadata": {
        "id": "7geRck9YG75x",
        "outputId": "55b7b684-d84a-4194-f162-5c9ae78375c2",
        "colab": {
          "base_uri": "https://localhost:8080/"
        }
      },
      "execution_count": 21,
      "outputs": [
        {
          "output_type": "execute_result",
          "data": {
            "text/plain": [
              "Index(['1-5_nouns', '2-2_nouns', '2-3_nouns', '2-4_nouns', '학교밖_nouns',\n",
              "       '5-1_nouns', '5-2_nouns', '6-1_nouns'],\n",
              "      dtype='object')"
            ]
          },
          "metadata": {},
          "execution_count": 21
        }
      ]
    },
    {
      "cell_type": "code",
      "source": [
        "df.head()"
      ],
      "metadata": {
        "id": "YxR_DwzLH3uY"
      },
      "execution_count": null,
      "outputs": []
    },
    {
      "cell_type": "code",
      "source": [
        "df.to_csv('result.csv', index = False, encoding = 'utf-8-sig')"
      ],
      "metadata": {
        "id": "o1Oj6otVGNOv"
      },
      "execution_count": 22,
      "outputs": []
    },
    {
      "cell_type": "code",
      "source": [
        ""
      ],
      "metadata": {
        "id": "liJuZZBuILL9"
      },
      "execution_count": null,
      "outputs": []
    }
  ],
  "metadata": {
    "kernelspec": {
      "display_name": "Python 3",
      "language": "python",
      "name": "python3"
    },
    "language_info": {
      "codemirror_mode": {
        "name": "ipython",
        "version": 3
      },
      "file_extension": ".py",
      "mimetype": "text/x-python",
      "name": "python",
      "nbconvert_exporter": "python",
      "pygments_lexer": "ipython3",
      "version": "3.6.4"
    },
    "colab": {
      "name": "petitions_classification.ipynb",
      "provenance": [],
      "include_colab_link": true
    }
  },
  "nbformat": 4,
  "nbformat_minor": 0
}